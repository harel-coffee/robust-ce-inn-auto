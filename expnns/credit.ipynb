{
 "cells": [
  {
   "cell_type": "markdown",
   "source": [
    "# Experiments on the German Credit datasets\n",
    "Old version: https://archive.ics.uci.edu/ml/datasets/statlog+(german+credit+data)\n",
    "Corrected version: https://archive.ics.uci.edu/ml/datasets/South+German+Credit+%28UPDATE%29 / https://www.kaggle.com/c/south-german-credit-prediction/overview/data-overview\n",
    "\n",
    "Some meanings of the discrete/ordinal feature values in the old version were wrong.\n",
    "For example, for feature \"checking status\",\n",
    "\n",
    "(inferred by the old dataset) a data object's value is                    '1' in the old dataset meaning negative DM.\n",
    "(by new dataset) However, it should have been value          '4' in the old dataset meaning no checking account\n",
    "\n",
    "(inferred by the old dataset) a data object's value is                    **'2' in the new dataset** *meaning negative DM*\n",
    "(by new dataset) However, it should have been value          '1' in the old dataset meaning no checking account\n",
    "\n",
    "Whether using the encoding scheme in the old or the new dataset, the feature value should be corrected according to the true meaning. The procedures in this experiment are:\n",
    "1. Encode the dataset using the new dataset's meaning,\n",
    "2. According to the *meanings of the old dataset*, **find encoded number in the new dataset and modify the feature values**.\n",
    "3. Train first on the data points by *meanings of the old dataset* to get the base NN\n",
    "4. gradually train on the data points by meanings of the new dataset to get the shifted NNs."
   ],
   "metadata": {
    "collapsed": false,
    "pycharm": {
     "name": "#%% md\n"
    }
   }
  },
  {
   "cell_type": "code",
   "execution_count": 1,
   "outputs": [],
   "source": [
    "# Python Standard Libraries\n",
    "import time\n",
    "import os, sys, pickle, json, math, time, multiprocessing, warnings, itertools, random, warnings, gc, ast, subprocess\n",
    "import copy\n",
    "from collections import defaultdict, Counter, namedtuple\n",
    "from math import log\n",
    "from itertools import product, combinations\n",
    "from random import choice, choices, sample, seed\n",
    "from datetime import datetime\n",
    "from sklearn.metrics.pairwise import euclidean_distances\n",
    "from importlib import reload\n",
    "# Basics\n",
    "import numpy as np\n",
    "import pandas as pd\n",
    "\n",
    "# Plotting\n",
    "import matplotlib.pyplot as plt\n",
    "\n",
    "# Multi-processing\n",
    "from joblib import Parallel, delayed\n",
    "from tqdm import tqdm\n",
    "\n",
    "# sci-kit learn\n",
    "import sklearn\n",
    "import sklearn.datasets as datasets\n",
    "from sklearn.preprocessing import LabelEncoder, OneHotEncoder\n",
    "from sklearn.model_selection import train_test_split, KFold, GridSearchCV, cross_validate\n",
    "from sklearn.metrics import accuracy_score, confusion_matrix, classification_report, make_scorer\n",
    "from sklearn.metrics import f1_score, precision_score, recall_score, precision_recall_curve\n",
    "\n",
    "pd.options.display.max_columns = 100\n",
    "pd.options.display.max_rows = 150\n",
    "\n",
    "import warnings\n",
    "\n",
    "warnings.filterwarnings('ignore')\n",
    "from expnns.utilcredit import *\n",
    "from expnns.preprocessor import Preprocessor"
   ],
   "metadata": {
    "collapsed": false,
    "pycharm": {
     "name": "#%%\n"
    }
   }
  },
  {
   "cell_type": "markdown",
   "source": [
    "### Process the old version dataset"
   ],
   "metadata": {
    "collapsed": false,
    "pycharm": {
     "name": "#%% md\n"
    }
   }
  },
  {
   "cell_type": "code",
   "execution_count": 2,
   "outputs": [],
   "source": [
    "df_old, df_old_mm, df_old_enc, preprocessor_old = load_old(\"../datasets/credit/old/german.data\")"
   ],
   "metadata": {
    "collapsed": false,
    "pycharm": {
     "name": "#%%\n"
    }
   }
  },
  {
   "cell_type": "code",
   "execution_count": 3,
   "outputs": [
    {
     "name": "stdout",
     "output_type": "stream",
     "text": [
      "<class 'pandas.core.frame.DataFrame'>\n",
      "Int64Index: 1000 entries, 0 to 999\n",
      "Data columns (total 21 columns):\n",
      " #   Column           Non-Null Count  Dtype\n",
      "---  ------           --------------  -----\n",
      " 0   checking-status  1000 non-null   int64\n",
      " 1   duration         1000 non-null   int64\n",
      " 2   credit-history   1000 non-null   int64\n",
      " 3   purpose          1000 non-null   int64\n",
      " 4   amount           1000 non-null   int64\n",
      " 5   savings          1000 non-null   int64\n",
      " 6   employment       1000 non-null   int64\n",
      " 7   rate             1000 non-null   int64\n",
      " 8   sex-status       1000 non-null   int64\n",
      " 9   guarantors       1000 non-null   int64\n",
      " 10  residence        1000 non-null   int64\n",
      " 11  property         1000 non-null   int64\n",
      " 12  age              1000 non-null   int64\n",
      " 13  installment      1000 non-null   int64\n",
      " 14  housing          1000 non-null   int64\n",
      " 15  num-credits      1000 non-null   int64\n",
      " 16  job              1000 non-null   int64\n",
      " 17  liable           1000 non-null   int64\n",
      " 18  phone            1000 non-null   int64\n",
      " 19  foreign          1000 non-null   int64\n",
      " 20  good-credit      1000 non-null   int64\n",
      "dtypes: int64(21)\n",
      "memory usage: 171.9 KB\n"
     ]
    }
   ],
   "source": [
    "df_old.info()"
   ],
   "metadata": {
    "collapsed": false,
    "pycharm": {
     "name": "#%%\n"
    }
   }
  },
  {
   "cell_type": "code",
   "execution_count": 4,
   "outputs": [
    {
     "name": "stdout",
     "output_type": "stream",
     "text": [
      "<class 'pandas.core.frame.DataFrame'>\n",
      "Int64Index: 1000 entries, 0 to 999\n",
      "Data columns (total 73 columns):\n",
      " #   Column             Non-Null Count  Dtype  \n",
      "---  ------             --------------  -----  \n",
      " 0   checking-status_0  1000 non-null   float64\n",
      " 1   checking-status_1  1000 non-null   float64\n",
      " 2   checking-status_2  1000 non-null   float64\n",
      " 3   checking-status_3  1000 non-null   float64\n",
      " 4   duration           1000 non-null   float64\n",
      " 5   credit-history_0   1000 non-null   float64\n",
      " 6   credit-history_1   1000 non-null   float64\n",
      " 7   credit-history_2   1000 non-null   float64\n",
      " 8   credit-history_3   1000 non-null   float64\n",
      " 9   credit-history_4   1000 non-null   float64\n",
      " 10  purpose_0          1000 non-null   float64\n",
      " 11  purpose_1          1000 non-null   float64\n",
      " 12  purpose_2          1000 non-null   float64\n",
      " 13  purpose_3          1000 non-null   float64\n",
      " 14  purpose_4          1000 non-null   float64\n",
      " 15  purpose_5          1000 non-null   float64\n",
      " 16  purpose_6          1000 non-null   float64\n",
      " 17  purpose_7          1000 non-null   float64\n",
      " 18  purpose_8          1000 non-null   float64\n",
      " 19  purpose_9          1000 non-null   float64\n",
      " 20  purpose_10         1000 non-null   float64\n",
      " 21  amount             1000 non-null   float64\n",
      " 22  savings_0          1000 non-null   float64\n",
      " 23  savings_1          1000 non-null   float64\n",
      " 24  savings_2          1000 non-null   float64\n",
      " 25  savings_3          1000 non-null   float64\n",
      " 26  savings_4          1000 non-null   float64\n",
      " 27  employment_0       1000 non-null   float64\n",
      " 28  employment_1       1000 non-null   float64\n",
      " 29  employment_2       1000 non-null   float64\n",
      " 30  employment_3       1000 non-null   float64\n",
      " 31  employment_4       1000 non-null   float64\n",
      " 32  rate_0             1000 non-null   float64\n",
      " 33  rate_1             1000 non-null   float64\n",
      " 34  rate_2             1000 non-null   float64\n",
      " 35  rate_3             1000 non-null   float64\n",
      " 36  sex-status_0       1000 non-null   float64\n",
      " 37  sex-status_1       1000 non-null   float64\n",
      " 38  sex-status_2       1000 non-null   float64\n",
      " 39  sex-status_3       1000 non-null   float64\n",
      " 40  guarantors_0       1000 non-null   float64\n",
      " 41  guarantors_1       1000 non-null   float64\n",
      " 42  guarantors_2       1000 non-null   float64\n",
      " 43  residence_0        1000 non-null   float64\n",
      " 44  residence_1        1000 non-null   float64\n",
      " 45  residence_2        1000 non-null   float64\n",
      " 46  residence_3        1000 non-null   float64\n",
      " 47  property_0         1000 non-null   float64\n",
      " 48  property_1         1000 non-null   float64\n",
      " 49  property_2         1000 non-null   float64\n",
      " 50  property_3         1000 non-null   float64\n",
      " 51  age                1000 non-null   float64\n",
      " 52  installment_0      1000 non-null   float64\n",
      " 53  installment_1      1000 non-null   float64\n",
      " 54  installment_2      1000 non-null   float64\n",
      " 55  housing_0          1000 non-null   float64\n",
      " 56  housing_1          1000 non-null   float64\n",
      " 57  housing_2          1000 non-null   float64\n",
      " 58  num-credits_0      1000 non-null   float64\n",
      " 59  num-credits_1      1000 non-null   float64\n",
      " 60  num-credits_2      1000 non-null   float64\n",
      " 61  num-credits_3      1000 non-null   float64\n",
      " 62  job_0              1000 non-null   float64\n",
      " 63  job_1              1000 non-null   float64\n",
      " 64  job_2              1000 non-null   float64\n",
      " 65  job_3              1000 non-null   float64\n",
      " 66  liable_0           1000 non-null   float64\n",
      " 67  liable_1           1000 non-null   float64\n",
      " 68  phone_0            1000 non-null   float64\n",
      " 69  phone_1            1000 non-null   float64\n",
      " 70  foreign_0          1000 non-null   float64\n",
      " 71  foreign_1          1000 non-null   float64\n",
      " 72  good-credit        1000 non-null   int64  \n",
      "dtypes: float64(72), int64(1)\n",
      "memory usage: 578.1 KB\n"
     ]
    }
   ],
   "source": [
    "df_old_enc.info()"
   ],
   "metadata": {
    "collapsed": false,
    "pycharm": {
     "name": "#%%\n"
    }
   }
  },
  {
   "cell_type": "code",
   "execution_count": 5,
   "outputs": [
    {
     "data": {
      "text/plain": "   checking-status  duration  credit-history  purpose    amount  savings  \\\n0              1.0  0.294118             3.0      4.0  0.056784      2.0   \n\n   employment  rate  sex-status  guarantors  residence  property       age  \\\n0         2.0   3.0         1.0         0.0        1.0       1.0  0.232143   \n\n   installment  housing  num-credits  job  liable  phone  foreign  good-credit  \n0          2.0      2.0          0.0  1.0     0.0    0.0      0.0          0.0  ",
      "text/html": "<div>\n<style scoped>\n    .dataframe tbody tr th:only-of-type {\n        vertical-align: middle;\n    }\n\n    .dataframe tbody tr th {\n        vertical-align: top;\n    }\n\n    .dataframe thead th {\n        text-align: right;\n    }\n</style>\n<table border=\"1\" class=\"dataframe\">\n  <thead>\n    <tr style=\"text-align: right;\">\n      <th></th>\n      <th>checking-status</th>\n      <th>duration</th>\n      <th>credit-history</th>\n      <th>purpose</th>\n      <th>amount</th>\n      <th>savings</th>\n      <th>employment</th>\n      <th>rate</th>\n      <th>sex-status</th>\n      <th>guarantors</th>\n      <th>residence</th>\n      <th>property</th>\n      <th>age</th>\n      <th>installment</th>\n      <th>housing</th>\n      <th>num-credits</th>\n      <th>job</th>\n      <th>liable</th>\n      <th>phone</th>\n      <th>foreign</th>\n      <th>good-credit</th>\n    </tr>\n  </thead>\n  <tbody>\n    <tr>\n      <th>0</th>\n      <td>1.0</td>\n      <td>0.294118</td>\n      <td>3.0</td>\n      <td>4.0</td>\n      <td>0.056784</td>\n      <td>2.0</td>\n      <td>2.0</td>\n      <td>3.0</td>\n      <td>1.0</td>\n      <td>0.0</td>\n      <td>1.0</td>\n      <td>1.0</td>\n      <td>0.232143</td>\n      <td>2.0</td>\n      <td>2.0</td>\n      <td>0.0</td>\n      <td>1.0</td>\n      <td>0.0</td>\n      <td>0.0</td>\n      <td>0.0</td>\n      <td>0.0</td>\n    </tr>\n  </tbody>\n</table>\n</div>"
     },
     "metadata": {},
     "output_type": "display_data"
    },
    {
     "data": {
      "text/plain": "   checking-status_0  checking-status_1  checking-status_2  checking-status_3  \\\n0                1.0                1.0                0.0                0.0   \n\n   duration  credit-history_0  credit-history_1  credit-history_2  \\\n0  0.294118               0.0               0.0               0.0   \n\n   credit-history_3  credit-history_4  purpose_0  purpose_1  purpose_2  \\\n0               1.0               0.0        0.0        0.0        0.0   \n\n   purpose_3  purpose_4  purpose_5  purpose_6  purpose_7  purpose_8  \\\n0        0.0        1.0        0.0        0.0        0.0        0.0   \n\n   purpose_9  purpose_10    amount  savings_0  savings_1  savings_2  \\\n0        0.0         0.0  0.056784        1.0        1.0        1.0   \n\n   savings_3  savings_4  employment_0  employment_1  employment_2  \\\n0        0.0        0.0           1.0           1.0           1.0   \n\n   employment_3  employment_4  rate_0  rate_1  rate_2  rate_3  sex-status_0  \\\n0           0.0           0.0     1.0     1.0     1.0     1.0           0.0   \n\n   sex-status_1  sex-status_2  sex-status_3  guarantors_0  guarantors_1  \\\n0           1.0           0.0           0.0           1.0           0.0   \n\n   guarantors_2  residence_0  residence_1  residence_2  residence_3  \\\n0           0.0          1.0          1.0          0.0          0.0   \n\n   property_0  property_1  property_2  property_3       age  installment_0  \\\n0         1.0         1.0         0.0         0.0  0.232143            0.0   \n\n   installment_1  installment_2  housing_0  housing_1  housing_2  \\\n0            0.0            1.0        1.0        1.0        1.0   \n\n   num-credits_0  num-credits_1  num-credits_2  num-credits_3  job_0  job_1  \\\n0            1.0            0.0            0.0            0.0    1.0    1.0   \n\n   job_2  job_3  liable_0  liable_1  phone_0  phone_1  foreign_0  foreign_1  \\\n0    0.0    0.0       1.0       0.0      1.0      0.0        1.0        0.0   \n\n   good-credit  \n0          0.0  ",
      "text/html": "<div>\n<style scoped>\n    .dataframe tbody tr th:only-of-type {\n        vertical-align: middle;\n    }\n\n    .dataframe tbody tr th {\n        vertical-align: top;\n    }\n\n    .dataframe thead th {\n        text-align: right;\n    }\n</style>\n<table border=\"1\" class=\"dataframe\">\n  <thead>\n    <tr style=\"text-align: right;\">\n      <th></th>\n      <th>checking-status_0</th>\n      <th>checking-status_1</th>\n      <th>checking-status_2</th>\n      <th>checking-status_3</th>\n      <th>duration</th>\n      <th>credit-history_0</th>\n      <th>credit-history_1</th>\n      <th>credit-history_2</th>\n      <th>credit-history_3</th>\n      <th>credit-history_4</th>\n      <th>purpose_0</th>\n      <th>purpose_1</th>\n      <th>purpose_2</th>\n      <th>purpose_3</th>\n      <th>purpose_4</th>\n      <th>purpose_5</th>\n      <th>purpose_6</th>\n      <th>purpose_7</th>\n      <th>purpose_8</th>\n      <th>purpose_9</th>\n      <th>purpose_10</th>\n      <th>amount</th>\n      <th>savings_0</th>\n      <th>savings_1</th>\n      <th>savings_2</th>\n      <th>savings_3</th>\n      <th>savings_4</th>\n      <th>employment_0</th>\n      <th>employment_1</th>\n      <th>employment_2</th>\n      <th>employment_3</th>\n      <th>employment_4</th>\n      <th>rate_0</th>\n      <th>rate_1</th>\n      <th>rate_2</th>\n      <th>rate_3</th>\n      <th>sex-status_0</th>\n      <th>sex-status_1</th>\n      <th>sex-status_2</th>\n      <th>sex-status_3</th>\n      <th>guarantors_0</th>\n      <th>guarantors_1</th>\n      <th>guarantors_2</th>\n      <th>residence_0</th>\n      <th>residence_1</th>\n      <th>residence_2</th>\n      <th>residence_3</th>\n      <th>property_0</th>\n      <th>property_1</th>\n      <th>property_2</th>\n      <th>property_3</th>\n      <th>age</th>\n      <th>installment_0</th>\n      <th>installment_1</th>\n      <th>installment_2</th>\n      <th>housing_0</th>\n      <th>housing_1</th>\n      <th>housing_2</th>\n      <th>num-credits_0</th>\n      <th>num-credits_1</th>\n      <th>num-credits_2</th>\n      <th>num-credits_3</th>\n      <th>job_0</th>\n      <th>job_1</th>\n      <th>job_2</th>\n      <th>job_3</th>\n      <th>liable_0</th>\n      <th>liable_1</th>\n      <th>phone_0</th>\n      <th>phone_1</th>\n      <th>foreign_0</th>\n      <th>foreign_1</th>\n      <th>good-credit</th>\n    </tr>\n  </thead>\n  <tbody>\n    <tr>\n      <th>0</th>\n      <td>1.0</td>\n      <td>1.0</td>\n      <td>0.0</td>\n      <td>0.0</td>\n      <td>0.294118</td>\n      <td>0.0</td>\n      <td>0.0</td>\n      <td>0.0</td>\n      <td>1.0</td>\n      <td>0.0</td>\n      <td>0.0</td>\n      <td>0.0</td>\n      <td>0.0</td>\n      <td>0.0</td>\n      <td>1.0</td>\n      <td>0.0</td>\n      <td>0.0</td>\n      <td>0.0</td>\n      <td>0.0</td>\n      <td>0.0</td>\n      <td>0.0</td>\n      <td>0.056784</td>\n      <td>1.0</td>\n      <td>1.0</td>\n      <td>1.0</td>\n      <td>0.0</td>\n      <td>0.0</td>\n      <td>1.0</td>\n      <td>1.0</td>\n      <td>1.0</td>\n      <td>0.0</td>\n      <td>0.0</td>\n      <td>1.0</td>\n      <td>1.0</td>\n      <td>1.0</td>\n      <td>1.0</td>\n      <td>0.0</td>\n      <td>1.0</td>\n      <td>0.0</td>\n      <td>0.0</td>\n      <td>1.0</td>\n      <td>0.0</td>\n      <td>0.0</td>\n      <td>1.0</td>\n      <td>1.0</td>\n      <td>0.0</td>\n      <td>0.0</td>\n      <td>1.0</td>\n      <td>1.0</td>\n      <td>0.0</td>\n      <td>0.0</td>\n      <td>0.232143</td>\n      <td>0.0</td>\n      <td>0.0</td>\n      <td>1.0</td>\n      <td>1.0</td>\n      <td>1.0</td>\n      <td>1.0</td>\n      <td>1.0</td>\n      <td>0.0</td>\n      <td>0.0</td>\n      <td>0.0</td>\n      <td>1.0</td>\n      <td>1.0</td>\n      <td>0.0</td>\n      <td>0.0</td>\n      <td>1.0</td>\n      <td>0.0</td>\n      <td>1.0</td>\n      <td>0.0</td>\n      <td>1.0</td>\n      <td>0.0</td>\n      <td>0.0</td>\n    </tr>\n  </tbody>\n</table>\n</div>"
     },
     "metadata": {},
     "output_type": "display_data"
    }
   ],
   "source": [
    "display(pd.DataFrame(data=df_old_mm.values[15].reshape(1, -1), columns=columns))\n",
    "display(preprocessor_old.encode_one(df_old_mm.values[15]))"
   ],
   "metadata": {
    "collapsed": false,
    "pycharm": {
     "name": "#%%\n"
    }
   }
  },
  {
   "cell_type": "markdown",
   "source": [
    "### Process the new version dataset\n"
   ],
   "metadata": {
    "collapsed": false,
    "pycharm": {
     "name": "#%% md\n"
    }
   }
  },
  {
   "cell_type": "code",
   "execution_count": 10,
   "outputs": [],
   "source": [
    "df_new, df_new_mm, df_new_enc, preprocessor_new = load_new(\"../datasets/credit/new/train.csv\")"
   ],
   "metadata": {
    "collapsed": false,
    "pycharm": {
     "name": "#%%\n"
    }
   }
  },
  {
   "cell_type": "code",
   "execution_count": 11,
   "outputs": [
    {
     "name": "stdout",
     "output_type": "stream",
     "text": [
      "<class 'pandas.core.frame.DataFrame'>\n",
      "Int64Index: 800 entries, 1 to 800\n",
      "Data columns (total 21 columns):\n",
      " #   Column           Non-Null Count  Dtype\n",
      "---  ------           --------------  -----\n",
      " 0   checking-status  800 non-null    int32\n",
      " 1   duration         800 non-null    int32\n",
      " 2   credit-history   800 non-null    int32\n",
      " 3   purpose          800 non-null    int32\n",
      " 4   amount           800 non-null    int32\n",
      " 5   savings          800 non-null    int32\n",
      " 6   employment       800 non-null    int32\n",
      " 7   rate             800 non-null    int32\n",
      " 8   sex-status       800 non-null    int32\n",
      " 9   guarantors       800 non-null    int32\n",
      " 10  residence        800 non-null    int32\n",
      " 11  property         800 non-null    int32\n",
      " 12  age              800 non-null    int32\n",
      " 13  installment      800 non-null    int32\n",
      " 14  housing          800 non-null    int32\n",
      " 15  num-credits      800 non-null    int32\n",
      " 16  job              800 non-null    int32\n",
      " 17  liable           800 non-null    int32\n",
      " 18  phone            800 non-null    int32\n",
      " 19  foreign          800 non-null    int32\n",
      " 20  good-credit      800 non-null    int32\n",
      "dtypes: int32(21)\n",
      "memory usage: 104.2 KB\n"
     ]
    }
   ],
   "source": [
    "df_new.info()"
   ],
   "metadata": {
    "collapsed": false,
    "pycharm": {
     "name": "#%%\n"
    }
   }
  },
  {
   "cell_type": "code",
   "execution_count": 12,
   "outputs": [
    {
     "name": "stdout",
     "output_type": "stream",
     "text": [
      "<class 'pandas.core.frame.DataFrame'>\n",
      "Int64Index: 801 entries, 0 to 800\n",
      "Data columns (total 73 columns):\n",
      " #   Column             Non-Null Count  Dtype  \n",
      "---  ------             --------------  -----  \n",
      " 0   checking-status_0  800 non-null    float64\n",
      " 1   checking-status_1  800 non-null    float64\n",
      " 2   checking-status_2  800 non-null    float64\n",
      " 3   checking-status_3  800 non-null    float64\n",
      " 4   duration           800 non-null    float64\n",
      " 5   credit-history_0   800 non-null    float64\n",
      " 6   credit-history_1   800 non-null    float64\n",
      " 7   credit-history_2   800 non-null    float64\n",
      " 8   credit-history_3   800 non-null    float64\n",
      " 9   credit-history_4   800 non-null    float64\n",
      " 10  purpose_0          800 non-null    float64\n",
      " 11  purpose_1          800 non-null    float64\n",
      " 12  purpose_2          800 non-null    float64\n",
      " 13  purpose_3          800 non-null    float64\n",
      " 14  purpose_4          800 non-null    float64\n",
      " 15  purpose_5          800 non-null    float64\n",
      " 16  purpose_6          800 non-null    float64\n",
      " 17  purpose_7          800 non-null    float64\n",
      " 18  purpose_8          800 non-null    float64\n",
      " 19  purpose_9          800 non-null    float64\n",
      " 20  purpose_10         800 non-null    float64\n",
      " 21  amount             800 non-null    float64\n",
      " 22  savings_0          800 non-null    float64\n",
      " 23  savings_1          800 non-null    float64\n",
      " 24  savings_2          800 non-null    float64\n",
      " 25  savings_3          800 non-null    float64\n",
      " 26  savings_4          800 non-null    float64\n",
      " 27  employment_0       800 non-null    float64\n",
      " 28  employment_1       800 non-null    float64\n",
      " 29  employment_2       800 non-null    float64\n",
      " 30  employment_3       800 non-null    float64\n",
      " 31  employment_4       800 non-null    float64\n",
      " 32  rate_0             800 non-null    float64\n",
      " 33  rate_1             800 non-null    float64\n",
      " 34  rate_2             800 non-null    float64\n",
      " 35  rate_3             800 non-null    float64\n",
      " 36  sex-status_0       800 non-null    float64\n",
      " 37  sex-status_1       800 non-null    float64\n",
      " 38  sex-status_2       800 non-null    float64\n",
      " 39  sex-status_3       800 non-null    float64\n",
      " 40  guarantors_0       800 non-null    float64\n",
      " 41  guarantors_1       800 non-null    float64\n",
      " 42  guarantors_2       800 non-null    float64\n",
      " 43  residence_0        800 non-null    float64\n",
      " 44  residence_1        800 non-null    float64\n",
      " 45  residence_2        800 non-null    float64\n",
      " 46  residence_3        800 non-null    float64\n",
      " 47  property_0         800 non-null    float64\n",
      " 48  property_1         800 non-null    float64\n",
      " 49  property_2         800 non-null    float64\n",
      " 50  property_3         800 non-null    float64\n",
      " 51  age                800 non-null    float64\n",
      " 52  installment_0      800 non-null    float64\n",
      " 53  installment_1      800 non-null    float64\n",
      " 54  installment_2      800 non-null    float64\n",
      " 55  housing_0          800 non-null    float64\n",
      " 56  housing_1          800 non-null    float64\n",
      " 57  housing_2          800 non-null    float64\n",
      " 58  num-credits_0      800 non-null    float64\n",
      " 59  num-credits_1      800 non-null    float64\n",
      " 60  num-credits_2      800 non-null    float64\n",
      " 61  num-credits_3      800 non-null    float64\n",
      " 62  job_0              800 non-null    float64\n",
      " 63  job_1              800 non-null    float64\n",
      " 64  job_2              800 non-null    float64\n",
      " 65  job_3              800 non-null    float64\n",
      " 66  liable_0           800 non-null    float64\n",
      " 67  liable_1           800 non-null    float64\n",
      " 68  phone_0            800 non-null    float64\n",
      " 69  phone_1            800 non-null    float64\n",
      " 70  foreign_0          800 non-null    float64\n",
      " 71  foreign_1          800 non-null    float64\n",
      " 72  good-credit        800 non-null    float64\n",
      "dtypes: float64(73)\n",
      "memory usage: 463.1 KB\n"
     ]
    }
   ],
   "source": [
    "df_new_enc.info()"
   ],
   "metadata": {
    "collapsed": false,
    "pycharm": {
     "name": "#%%\n"
    }
   }
  },
  {
   "cell_type": "code",
   "execution_count": 13,
   "outputs": [
    {
     "data": {
      "text/plain": "   checking-status  duration  credit-history  purpose    amount  savings  \\\n0              1.0  0.205882             2.0      3.0  0.163035      2.0   \n\n   employment  rate  sex-status  guarantors  residence  property       age  \\\n0         1.0   0.0         3.0         0.0        2.0       0.0  0.107143   \n\n   installment  housing  num-credits  job  liable  phone  foreign  good-credit  \n0          2.0      0.0          0.0  2.0     1.0    0.0      1.0          1.0  ",
      "text/html": "<div>\n<style scoped>\n    .dataframe tbody tr th:only-of-type {\n        vertical-align: middle;\n    }\n\n    .dataframe tbody tr th {\n        vertical-align: top;\n    }\n\n    .dataframe thead th {\n        text-align: right;\n    }\n</style>\n<table border=\"1\" class=\"dataframe\">\n  <thead>\n    <tr style=\"text-align: right;\">\n      <th></th>\n      <th>checking-status</th>\n      <th>duration</th>\n      <th>credit-history</th>\n      <th>purpose</th>\n      <th>amount</th>\n      <th>savings</th>\n      <th>employment</th>\n      <th>rate</th>\n      <th>sex-status</th>\n      <th>guarantors</th>\n      <th>residence</th>\n      <th>property</th>\n      <th>age</th>\n      <th>installment</th>\n      <th>housing</th>\n      <th>num-credits</th>\n      <th>job</th>\n      <th>liable</th>\n      <th>phone</th>\n      <th>foreign</th>\n      <th>good-credit</th>\n    </tr>\n  </thead>\n  <tbody>\n    <tr>\n      <th>0</th>\n      <td>1.0</td>\n      <td>0.205882</td>\n      <td>2.0</td>\n      <td>3.0</td>\n      <td>0.163035</td>\n      <td>2.0</td>\n      <td>1.0</td>\n      <td>0.0</td>\n      <td>3.0</td>\n      <td>0.0</td>\n      <td>2.0</td>\n      <td>0.0</td>\n      <td>0.107143</td>\n      <td>2.0</td>\n      <td>0.0</td>\n      <td>0.0</td>\n      <td>2.0</td>\n      <td>1.0</td>\n      <td>0.0</td>\n      <td>1.0</td>\n      <td>1.0</td>\n    </tr>\n  </tbody>\n</table>\n</div>"
     },
     "metadata": {},
     "output_type": "display_data"
    },
    {
     "data": {
      "text/plain": "   checking-status_0  checking-status_1  checking-status_2  checking-status_3  \\\n0                1.0                1.0                0.0                0.0   \n\n   duration  credit-history_0  credit-history_1  credit-history_2  \\\n0  0.205882               0.0               0.0               1.0   \n\n   credit-history_3  credit-history_4  purpose_0  purpose_1  purpose_2  \\\n0               0.0               0.0        0.0        0.0        0.0   \n\n   purpose_3  purpose_4  purpose_5  purpose_6  purpose_7  purpose_8  \\\n0        1.0        0.0        0.0        0.0        0.0        0.0   \n\n   purpose_9  purpose_10    amount  savings_0  savings_1  savings_2  \\\n0        0.0         0.0  0.163035        1.0        1.0        1.0   \n\n   savings_3  savings_4  employment_0  employment_1  employment_2  \\\n0        0.0        0.0           1.0           1.0           0.0   \n\n   employment_3  employment_4  rate_0  rate_1  rate_2  rate_3  sex-status_0  \\\n0           0.0           0.0     1.0     0.0     0.0     0.0           0.0   \n\n   sex-status_1  sex-status_2  sex-status_3  guarantors_0  guarantors_1  \\\n0           0.0           0.0           1.0           1.0           0.0   \n\n   guarantors_2  residence_0  residence_1  residence_2  residence_3  \\\n0           0.0          1.0          1.0          1.0          0.0   \n\n   property_0  property_1  property_2  property_3       age  installment_0  \\\n0         1.0         0.0         0.0         0.0  0.107143            0.0   \n\n   installment_1  installment_2  housing_0  housing_1  housing_2  \\\n0            0.0            1.0        1.0        0.0        0.0   \n\n   num-credits_0  num-credits_1  num-credits_2  num-credits_3  job_0  job_1  \\\n0            1.0            0.0            0.0            0.0    1.0    1.0   \n\n   job_2  job_3  liable_0  liable_1  phone_0  phone_1  foreign_0  foreign_1  \\\n0    1.0    0.0       1.0       1.0      1.0      0.0        0.0        1.0   \n\n   good-credit  \n0          1.0  ",
      "text/html": "<div>\n<style scoped>\n    .dataframe tbody tr th:only-of-type {\n        vertical-align: middle;\n    }\n\n    .dataframe tbody tr th {\n        vertical-align: top;\n    }\n\n    .dataframe thead th {\n        text-align: right;\n    }\n</style>\n<table border=\"1\" class=\"dataframe\">\n  <thead>\n    <tr style=\"text-align: right;\">\n      <th></th>\n      <th>checking-status_0</th>\n      <th>checking-status_1</th>\n      <th>checking-status_2</th>\n      <th>checking-status_3</th>\n      <th>duration</th>\n      <th>credit-history_0</th>\n      <th>credit-history_1</th>\n      <th>credit-history_2</th>\n      <th>credit-history_3</th>\n      <th>credit-history_4</th>\n      <th>purpose_0</th>\n      <th>purpose_1</th>\n      <th>purpose_2</th>\n      <th>purpose_3</th>\n      <th>purpose_4</th>\n      <th>purpose_5</th>\n      <th>purpose_6</th>\n      <th>purpose_7</th>\n      <th>purpose_8</th>\n      <th>purpose_9</th>\n      <th>purpose_10</th>\n      <th>amount</th>\n      <th>savings_0</th>\n      <th>savings_1</th>\n      <th>savings_2</th>\n      <th>savings_3</th>\n      <th>savings_4</th>\n      <th>employment_0</th>\n      <th>employment_1</th>\n      <th>employment_2</th>\n      <th>employment_3</th>\n      <th>employment_4</th>\n      <th>rate_0</th>\n      <th>rate_1</th>\n      <th>rate_2</th>\n      <th>rate_3</th>\n      <th>sex-status_0</th>\n      <th>sex-status_1</th>\n      <th>sex-status_2</th>\n      <th>sex-status_3</th>\n      <th>guarantors_0</th>\n      <th>guarantors_1</th>\n      <th>guarantors_2</th>\n      <th>residence_0</th>\n      <th>residence_1</th>\n      <th>residence_2</th>\n      <th>residence_3</th>\n      <th>property_0</th>\n      <th>property_1</th>\n      <th>property_2</th>\n      <th>property_3</th>\n      <th>age</th>\n      <th>installment_0</th>\n      <th>installment_1</th>\n      <th>installment_2</th>\n      <th>housing_0</th>\n      <th>housing_1</th>\n      <th>housing_2</th>\n      <th>num-credits_0</th>\n      <th>num-credits_1</th>\n      <th>num-credits_2</th>\n      <th>num-credits_3</th>\n      <th>job_0</th>\n      <th>job_1</th>\n      <th>job_2</th>\n      <th>job_3</th>\n      <th>liable_0</th>\n      <th>liable_1</th>\n      <th>phone_0</th>\n      <th>phone_1</th>\n      <th>foreign_0</th>\n      <th>foreign_1</th>\n      <th>good-credit</th>\n    </tr>\n  </thead>\n  <tbody>\n    <tr>\n      <th>0</th>\n      <td>1.0</td>\n      <td>1.0</td>\n      <td>0.0</td>\n      <td>0.0</td>\n      <td>0.205882</td>\n      <td>0.0</td>\n      <td>0.0</td>\n      <td>1.0</td>\n      <td>0.0</td>\n      <td>0.0</td>\n      <td>0.0</td>\n      <td>0.0</td>\n      <td>0.0</td>\n      <td>1.0</td>\n      <td>0.0</td>\n      <td>0.0</td>\n      <td>0.0</td>\n      <td>0.0</td>\n      <td>0.0</td>\n      <td>0.0</td>\n      <td>0.0</td>\n      <td>0.163035</td>\n      <td>1.0</td>\n      <td>1.0</td>\n      <td>1.0</td>\n      <td>0.0</td>\n      <td>0.0</td>\n      <td>1.0</td>\n      <td>1.0</td>\n      <td>0.0</td>\n      <td>0.0</td>\n      <td>0.0</td>\n      <td>1.0</td>\n      <td>0.0</td>\n      <td>0.0</td>\n      <td>0.0</td>\n      <td>0.0</td>\n      <td>0.0</td>\n      <td>0.0</td>\n      <td>1.0</td>\n      <td>1.0</td>\n      <td>0.0</td>\n      <td>0.0</td>\n      <td>1.0</td>\n      <td>1.0</td>\n      <td>1.0</td>\n      <td>0.0</td>\n      <td>1.0</td>\n      <td>0.0</td>\n      <td>0.0</td>\n      <td>0.0</td>\n      <td>0.107143</td>\n      <td>0.0</td>\n      <td>0.0</td>\n      <td>1.0</td>\n      <td>1.0</td>\n      <td>0.0</td>\n      <td>0.0</td>\n      <td>1.0</td>\n      <td>0.0</td>\n      <td>0.0</td>\n      <td>0.0</td>\n      <td>1.0</td>\n      <td>1.0</td>\n      <td>1.0</td>\n      <td>0.0</td>\n      <td>1.0</td>\n      <td>1.0</td>\n      <td>1.0</td>\n      <td>0.0</td>\n      <td>0.0</td>\n      <td>1.0</td>\n      <td>1.0</td>\n    </tr>\n  </tbody>\n</table>\n</div>"
     },
     "metadata": {},
     "output_type": "display_data"
    }
   ],
   "source": [
    "display(pd.DataFrame(data=df_new_mm.values[15].reshape(1, -1), columns=columns))\n",
    "display(preprocessor_new.encode_one(df_new_mm.values[15]))\n"
   ],
   "metadata": {
    "collapsed": false,
    "pycharm": {
     "name": "#%%\n"
    }
   }
  },
  {
   "cell_type": "code",
   "execution_count": null,
   "outputs": [],
   "source": [],
   "metadata": {
    "collapsed": false,
    "pycharm": {
     "name": "#%%\n"
    }
   }
  }
 ],
 "metadata": {
  "kernelspec": {
   "display_name": "Python 3",
   "language": "python",
   "name": "python3"
  },
  "language_info": {
   "codemirror_mode": {
    "name": "ipython",
    "version": 2
   },
   "file_extension": ".py",
   "mimetype": "text/x-python",
   "name": "python",
   "nbconvert_exporter": "python",
   "pygments_lexer": "ipython2",
   "version": "2.7.6"
  }
 },
 "nbformat": 4,
 "nbformat_minor": 0
}