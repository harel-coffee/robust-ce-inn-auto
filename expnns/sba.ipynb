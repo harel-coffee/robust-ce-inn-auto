{
 "cells": [
  {
   "cell_type": "markdown",
   "source": [
    "# Experiments on the small business administration dataset\n",
    "\n",
    "temporal shift\n"
   ],
   "metadata": {
    "collapsed": false,
    "pycharm": {
     "name": "#%% md\n"
    }
   }
  },
  {
   "cell_type": "code",
   "execution_count": 1,
   "metadata": {
    "collapsed": true,
    "pycharm": {
     "name": "#%%\n"
    }
   },
   "outputs": [],
   "source": [
    "import numpy as np\n",
    "import pandas as pd\n",
    "from sklearn.model_selection import train_test_split, KFold, GridSearchCV, cross_validate\n",
    "from sklearn.metrics import accuracy_score, confusion_matrix, classification_report, make_scorer\n",
    "from sklearn.metrics import f1_score, precision_score, recall_score, precision_recall_curve\n",
    "\n",
    "pd.options.display.max_columns = 100\n",
    "pd.options.display.max_rows = 150\n",
    "\n",
    "import warnings\n",
    "\n",
    "warnings.filterwarnings('ignore')\n",
    "from utilexp import *\n",
    "from expnns.preprocessor import min_max_scale"
   ]
  },
  {
   "cell_type": "code",
   "execution_count": 2,
   "outputs": [],
   "source": [
    "\n",
    "df = pd.read_csv(\"../datasets/sba/SBAcase.11.13.17.csv\", delimiter=',')\n",
    "df = df.dropna(axis=1)\n",
    "df = df.drop(columns=['ApprovalDate', \"LoanNr_ChkDgt\", \"Name\", \"Zip\", \"City\", \"State\", \"NAICS\", \"FranchiseCode\", 'BalanceGross', \"MIS_Status\", \"Selected\", \"UrbanRural\", 'Recession', 'New', 'RealEstate', 'Portion'])\n",
    "continuous_features = ['Term', 'NoEmp', 'CreateJob', 'RetainedJob',\n",
    "       'DisbursementGross', 'ChgOffPrinGr', 'GrAppv', 'SBA_Appv',\n",
    "       'daysterm']\n",
    "\n",
    "df1 = df[df['ApprovalFY'] < 2006].drop(columns=\"ApprovalFY\")\n",
    "df2 = df[df['ApprovalFY'] >= 2006].drop(columns=\"ApprovalFY\")\n",
    "df = df.drop(columns=[\"ApprovalFY\"])\n",
    "# min max scale\n",
    "min_vals = np.min(df[continuous_features], axis=0)\n",
    "max_vals = np.max(df[continuous_features], axis=0)\n",
    "df1_mm = min_max_scale(df1, continuous_features, min_vals, max_vals)\n",
    "df2_mm = min_max_scale(df2, continuous_features, min_vals, max_vals)\n",
    "\n",
    "# get X, y\n",
    "X1, y1 = df1_mm.drop(columns=['Default']), pd.DataFrame(1 - df1_mm['Default'])\n",
    "X2, y2 = df2_mm.drop(columns=['Default']), pd.DataFrame(1 - df2_mm['Default'])\n",
    "SPLIT = .2\n",
    "X1_train, X1_test, y1_train, y1_test = train_test_split(X1, y1, stratify=y1, test_size=SPLIT, shuffle=True,\n",
    "                                                    random_state=5)\n",
    "X2_train, X2_test, y2_train, y2_test = train_test_split(X2, y2, stratify=y2, test_size=SPLIT, shuffle=True,\n",
    "                                                    random_state=2)\n",
    "\n",
    "ordinal_features = {}\n",
    "discrete_features = {}\n",
    "columns = list(df1_mm.columns)\n",
    "feat_var_map = {}\n",
    "for i in range(len(X1.columns)):\n",
    "    feat_var_map[i] = [i]\n"
   ],
   "metadata": {
    "collapsed": false,
    "pycharm": {
     "name": "#%%\n"
    }
   }
  },
  {
   "cell_type": "markdown",
   "source": [
    "# Train and observe model changes"
   ],
   "metadata": {
    "collapsed": false,
    "pycharm": {
     "name": "#%% md\n"
    }
   }
  },
  {
   "cell_type": "code",
   "execution_count": 4,
   "outputs": [
    {
     "name": "stdout",
     "output_type": "stream",
     "text": [
      "{'max_iter': 5, 'learning_rate_init': 0.05, 'hidden_layer_sizes': 6, 'batch_size': 8}\n"
     ]
    }
   ],
   "source": [
    "# Randomdised search + 5-fold cross validation (default)\n",
    "from sklearn.model_selection import RandomizedSearchCV\n",
    "from sklearn.neural_network import MLPClassifier\n",
    "\n",
    "nn = MLPClassifier(learning_rate='adaptive', random_state=0)\n",
    "\n",
    "# parameters\n",
    "max_iter_vals = [2, 3, 4, 5]\n",
    "hidden_layer_sizes_vals = [(i) for i in range(3, 20)]\n",
    "batch_size_vals = [8, 16, 32, 64]\n",
    "learning_rate_init_vals = [0.001, 0.002, 0.005, 0.01, 0.02, 0.05]\n",
    "\n",
    "#distributions = dict(max_iter=max_iter_vals, hidden_layer_sizes=hidden_layer_sizes_vals)\n",
    "distributions = dict(hidden_layer_sizes=hidden_layer_sizes_vals,\n",
    "                     batch_size=batch_size_vals,\n",
    "                     learning_rate_init=learning_rate_init_vals,\n",
    "                     max_iter=max_iter_vals)\n",
    "\n",
    "nns = RandomizedSearchCV(nn, distributions, scoring='f1_macro')\n",
    "#nns = RandomizedSearchCV(nn, distributions, scoring='accuracy')\n",
    "search = nns.fit(X1, y1)\n",
    "print(search.best_params_)\n"
   ],
   "metadata": {
    "collapsed": false,
    "pycharm": {
     "name": "#%%\n"
    }
   }
  },
  {
   "cell_type": "code",
   "execution_count": 5,
   "outputs": [
    {
     "name": "stdout",
     "output_type": "stream",
     "text": [
      "0.94 test_accuracy with a std of 0.01\n",
      "0.92 test_precision_macro with a std of 0.04\n",
      "0.87 test_recall_macro with a std of 0.03\n",
      "0.89 test_f1_macro with a std of 0.02\n",
      "\n",
      "                  precision    recall  f1-score   support\n",
      "\n",
      " bad credit (0)      1.000     0.946     0.972        37\n",
      "good credit (1)      0.990     1.000     0.995       195\n",
      "\n",
      "       accuracy                          0.991       232\n",
      "      macro avg      0.995     0.973     0.984       232\n",
      "   weighted avg      0.991     0.991     0.991       232\n",
      "\n",
      "\n",
      "                  precision    recall  f1-score   support\n",
      "\n",
      " bad credit (0)      0.965     0.926     0.945       149\n",
      "good credit (1)      0.986     0.994     0.990       778\n",
      "\n",
      "       accuracy                          0.983       927\n",
      "      macro avg      0.976     0.960     0.967       927\n",
      "   weighted avg      0.983     0.983     0.983       927\n",
      "\n"
     ]
    }
   ],
   "source": [
    "from sklearn.neural_network import MLPClassifier\n",
    "\n",
    "#clf = MLPClassifier(learning_rate='adaptive', hidden_layer_sizes=18, learning_rate_init=0.005, batch_size=8,\n",
    "#                    max_iter=9000, random_state=0)\n",
    "clf = MLPClassifier(learning_rate='adaptive', hidden_layer_sizes=6, learning_rate_init=0.05, batch_size=8,\n",
    "                    max_iter=5, random_state=0)\n",
    "# 5-fold cross validation\n",
    "from sklearn.model_selection import cross_validate\n",
    "from sklearn.metrics import recall_score, f1_score, precision_score\n",
    "\n",
    "scoring = ['accuracy', 'precision_macro', 'recall_macro', 'f1_macro']\n",
    "scores = cross_validate(clf, X1, y1, scoring=scoring)\n",
    "for name in list(scores.keys()):\n",
    "    if name == 'fit_time' or name == 'score_time':\n",
    "        continue\n",
    "    print(\"%0.2f %s with a std of %0.2f\" % (scores[name].mean(), name, scores[name].std()))\n",
    "\n",
    "#clf = MLPClassifier(learning_rate='adaptive', hidden_layer_sizes=18, learning_rate_init=0.005, batch_size=8,\n",
    "#                    max_iter=9000, random_state=0)\n",
    "clf = MLPClassifier(learning_rate='adaptive', hidden_layer_sizes=18, learning_rate_init=0.005, batch_size=8,\n",
    "                    max_iter=9000, random_state=0)\n",
    "clf.fit(X1_train, y1_train)\n",
    "resres = clf.predict(X1_test.values)\n",
    "print('\\n', classification_report(y1_test, resres, target_names=[f'bad credit (0)', f'good credit (1)'], digits=3))\n",
    "resres = clf.predict(X1_train.values)\n",
    "print('\\n', classification_report(y1_train, resres, target_names=[f'bad credit (0)', f'good credit (1)'], digits=3))\n"
   ],
   "metadata": {
    "collapsed": false,
    "pycharm": {
     "name": "#%%\n"
    }
   }
  },
  {
   "cell_type": "code",
   "execution_count": 24,
   "outputs": [
    {
     "data": {
      "text/plain": "['sba.joblib']"
     },
     "execution_count": 24,
     "metadata": {},
     "output_type": "execute_result"
    }
   ],
   "source": [
    "# save the trained classifier\n",
    "from joblib import dump, load\n",
    "\n",
    "#dump(clf, 'sba.joblib')\n"
   ],
   "metadata": {
    "collapsed": false,
    "pycharm": {
     "name": "#%%\n"
    }
   }
  },
  {
   "cell_type": "markdown",
   "source": [
    "# Experiments: computing counterfactuals\n",
    "\n",
    "#### Procedures\n",
    "\n",
    "These procedures are covered by UtilExp class\n",
    "\n",
    "1. Train M on D1\n",
    "2. Get delta-min, build M+ and M-: incrementally train M 5 times, using different 10% of D2 each time, then get the maximum inf-distance between the incremented models and M. Construct M+ and M- using delta-min\n",
    "3. Get M2: incrementally train M on D2\n",
    "4. Select test instances: randomly select 50 D1 instances to explain, clf(x)=0, desired class=1\n",
    "5. Report metrics using each baseline\n",
    "\n",
    "#### Metrics\n",
    "- Proximity: normalised L1: \"Scaling Guarantees for Nearest CEs\" page 7\n",
    "- Sparsity: L0\n",
    "- Validity-delta: percentage of test instances that 1) have counterfactuals valid on m1, 2) counterfactuals valid on M+ and M- under delta_min\n",
    "- Validity-m2: percentage of test instances that 1) have counterfactual(s), 2) these counterfactual(s) are all valid on both m1 and m2\n",
    "- LOF: average LOF score"
   ],
   "metadata": {
    "collapsed": false,
    "pycharm": {
     "name": "#%% md\n"
    }
   }
  },
  {
   "cell_type": "code",
   "execution_count": 25,
   "outputs": [],
   "source": [
    "from joblib import dump, load\n",
    "import gurobipy\n",
    "clf = load(\"sba.joblib\")\n",
    "gurobipy.setParam(\"FeasibilityTol\", 1e-09)\n",
    "gurobipy.setParam(\"OptimalityTol\", 1e-09)\n",
    "gurobipy.setParam(\"IntFeasTol\", 1e-05)\n"
   ],
   "metadata": {
    "collapsed": false,
    "pycharm": {
     "name": "#%%\n"
    }
   }
  },
  {
   "cell_type": "code",
   "execution_count": 26,
   "outputs": [
    {
     "data": {
      "text/plain": "[<matplotlib.lines.Line2D at 0x2a0181b4688>]"
     },
     "execution_count": 26,
     "metadata": {},
     "output_type": "execute_result"
    },
    {
     "data": {
      "text/plain": "<Figure size 432x288 with 1 Axes>",
      "image/png": "[encoded data removed]"
     },
     "metadata": {
      "needs_background": "light"
     },
     "output_type": "display_data"
    }
   ],
   "source": [
    "gaps = np.arange(0.1, 1.01, 0.1)\n",
    "deltas = []\n",
    "clfs = []\n",
    "for a, i in enumerate(gaps):\n",
    "    clfs.append(copy.deepcopy(clf))\n",
    "    util_exp = UtilExp(clfs[a], X1, y1, X2, y2, columns, ordinal_features, discrete_features, continuous_features, feat_var_map,\n",
    "                   num_test_instances=1000, gap=i)\n",
    "    deltas.append(util_exp.delta_min)\n",
    "plt.plot(gaps, deltas)"
   ],
   "metadata": {
    "collapsed": false,
    "pycharm": {
     "name": "#%%\n"
    }
   }
  },
  {
   "cell_type": "code",
   "execution_count": 27,
   "outputs": [
    {
     "name": "stdout",
     "output_type": "stream",
     "text": [
      "0.30498064647513345\n",
      "0.10821238236127151\n"
     ]
    }
   ],
   "source": [
    "util_exp = UtilExp(clf, X1, y1, X2, y2, columns, ordinal_features, discrete_features, continuous_features, feat_var_map, gap=0.25, num_test_instances=200)\n",
    "print(util_exp.delta_max)\n",
    "print(util_exp.delta_min)"
   ],
   "metadata": {
    "collapsed": false,
    "pycharm": {
     "name": "#%%\n"
    }
   }
  },
  {
   "cell_type": "code",
   "execution_count": 17,
   "outputs": [
    {
     "name": "stdout",
     "output_type": "stream",
     "text": [
      "178\n"
     ]
    }
   ],
   "source": [
    "print(len(X1.values) - np.sum(clf.predict(X1)))"
   ],
   "metadata": {
    "collapsed": false,
    "pycharm": {
     "name": "#%%\n"
    }
   }
  },
  {
   "cell_type": "code",
   "execution_count": 29,
   "outputs": [
    {
     "name": "stdout",
     "output_type": "stream",
     "text": [
      "percentage of sound model changes: 0.6348314606741573\n",
      "113\n"
     ]
    }
   ],
   "source": [
    "valids = util_exp.verify_soundness()\n",
    "print(len(valids))"
   ],
   "metadata": {
    "collapsed": false,
    "pycharm": {
     "name": "#%%\n"
    }
   }
  },
  {
   "cell_type": "code",
   "execution_count": 30,
   "outputs": [
    {
     "name": "stdout",
     "output_type": "stream",
     "text": [
      "percentage of sound model changes: 0.6348314606741573\n",
      "test instances updated to sound (x, Delta) pairs, length: 50\n",
      "percentage of sound model changes: 1.0\n",
      "50\n"
     ]
    }
   ],
   "source": [
    "valids = util_exp.verify_soundness(update_test_instances=True)\n",
    "valids2 = util_exp.verify_soundness()   # percentage should be 1\n",
    "print(len(valids))"
   ],
   "metadata": {
    "collapsed": false,
    "pycharm": {
     "name": "#%%\n"
    }
   }
  },
  {
   "cell_type": "code",
   "execution_count": 20,
   "outputs": [
    {
     "name": "stderr",
     "output_type": "stream",
     "text": [
      "50it [00:48,  1.04it/s]\n"
     ]
    },
    {
     "name": "stdout",
     "output_type": "stream",
     "text": [
      "total computation time in s: 48.05300450325012\n",
      "found: 1.0\n",
      "average normalised L1: 0.018397036223618234\n",
      "average normalised L0: 0.27084\n",
      "average lof score: -0.88\n",
      "counterfactual validity: 1.0\n",
      "delta validity: 1.0\n",
      "m2 validity: 1.0\n"
     ]
    }
   ],
   "source": [
    "# OURS-ROBUST\n",
    "ours_robust_ces = util_exp.run_ours_robust()\n",
    "util_exp.evaluate_ces(ours_robust_ces)"
   ],
   "metadata": {
    "collapsed": false,
    "pycharm": {
     "name": "#%%\n"
    }
   }
  },
  {
   "cell_type": "code",
   "execution_count": 49,
   "outputs": [],
   "source": [
    "#np.save(\"./results/sba-milp-r.npy\", ours_robust_ces)\n",
    "#ours_robust_ces = list(np.load(\"./results/sba-milp-r.npy\"))"
   ],
   "metadata": {
    "collapsed": false,
    "pycharm": {
     "name": "#%%\n"
    }
   }
  },
  {
   "cell_type": "code",
   "execution_count": 31,
   "outputs": [
    {
     "name": "stderr",
     "output_type": "stream",
     "text": [
      "50it [00:00, 62.03it/s]\n"
     ]
    },
    {
     "name": "stdout",
     "output_type": "stream",
     "text": [
      "total computation time in s: 0.8080010414123535\n",
      "found: 1.0\n",
      "average normalised L1: 0.007121704986669339\n",
      "average normalised L0: 0.11322000000000002\n",
      "average lof score: 0.56\n",
      "counterfactual validity: 1.0\n",
      "delta validity: 0.0\n",
      "m2 validity: 0.04\n"
     ]
    }
   ],
   "source": [
    "# OURS-NON-ROBUST\n",
    "ours_non_robust_ces = util_exp.run_ours_non_robust()\n",
    "util_exp.evaluate_ces(ours_non_robust_ces)"
   ],
   "metadata": {
    "collapsed": false,
    "pycharm": {
     "name": "#%%\n"
    }
   }
  },
  {
   "cell_type": "code",
   "execution_count": 50,
   "outputs": [],
   "source": [
    "#np.save(\"./results/sba-milp.npy\", ours_non_robust_ces)\n",
    "#ours_non_robust_ces = list(np.load(\"./results/sba-milp.npy\"))"
   ],
   "metadata": {
    "collapsed": false,
    "pycharm": {
     "name": "#%%\n"
    }
   }
  },
  {
   "cell_type": "code",
   "execution_count": 22,
   "outputs": [
    {
     "name": "stderr",
     "output_type": "stream",
     "text": [
      "0it [00:00, ?it/s]\n",
      "0it [00:00, ?it/s]\u001B[A\n",
      "1it [00:00,  9.17it/s]\u001B[A\n",
      "\n",
      "1it [00:00, 11.90it/s]\n",
      "\n",
      "1it [00:00, 12.35it/s]\n",
      "\n",
      "1it [00:00, 12.50it/s]\n",
      "\n",
      "1it [00:00, 29.41it/s]\n",
      "1it [00:00,  2.11it/s]\n",
      "1it [00:00, 10.75it/s]\n",
      "\n",
      "1it [00:00, 11.76it/s]\n",
      "\n",
      "1it [00:00, 12.82it/s]\n",
      "\n",
      "1it [00:00, 12.66it/s]\n",
      "\n",
      "1it [00:00, 30.30it/s]\n",
      "2it [00:00,  2.16it/s]\n",
      "1it [00:00, 12.82it/s]\n",
      "\n",
      "1it [00:00, 12.99it/s]\n",
      "\n",
      "1it [00:00, 13.89it/s]\n",
      "\n",
      "1it [00:00, 14.71it/s]\n",
      "\n",
      "1it [00:00, 32.26it/s]\n",
      "3it [00:01,  2.29it/s]\n",
      "1it [00:00, 12.05it/s]\n",
      "\n",
      "1it [00:00, 12.35it/s]\n",
      "\n",
      "1it [00:00, 11.76it/s]\n",
      "\n",
      "1it [00:00, 13.16it/s]\n",
      "\n",
      "1it [00:00, 28.57it/s]\n",
      "4it [00:01,  2.28it/s]\n",
      "1it [00:00, 12.19it/s]\n",
      "\n",
      "1it [00:00, 12.50it/s]\n",
      "\n",
      "1it [00:00, 13.51it/s]\n",
      "\n",
      "1it [00:00, 13.70it/s]\n",
      "\n",
      "1it [00:00, 31.23it/s]\n",
      "5it [00:02,  2.31it/s]\n",
      "1it [00:00, 12.50it/s]\n",
      "\n",
      "1it [00:00, 12.35it/s]\n",
      "\n",
      "1it [00:00, 12.99it/s]\n",
      "\n",
      "1it [00:00, 12.82it/s]\n",
      "\n",
      "1it [00:00, 31.25it/s]\n",
      "6it [00:02,  2.31it/s]\n",
      "1it [00:00, 10.31it/s]\n",
      "\n",
      "1it [00:00, 10.20it/s]\n",
      "\n",
      "1it [00:00, 11.11it/s]\n",
      "\n",
      "1it [00:00, 10.99it/s]\n",
      "\n",
      "1it [00:00, 13.33it/s]\n",
      "\n",
      "1it [00:00, 13.89it/s]\n",
      "\n",
      "1it [00:00, 15.38it/s]\n",
      "\n",
      "1it [00:00, 23.81it/s]\n",
      "7it [00:03,  1.93it/s]\n",
      "1it [00:00, 12.82it/s]\n",
      "\n",
      "1it [00:00, 12.66it/s]\n",
      "\n",
      "1it [00:00, 12.50it/s]\n",
      "\n",
      "1it [00:00, 14.08it/s]\n",
      "\n",
      "1it [00:00, 29.41it/s]\n",
      "8it [00:03,  2.06it/s]\n",
      "1it [00:00, 13.16it/s]\n",
      "\n",
      "1it [00:00, 12.99it/s]\n",
      "\n",
      "1it [00:00, 14.08it/s]\n",
      "\n",
      "1it [00:00, 14.29it/s]\n",
      "\n",
      "1it [00:00, 30.30it/s]\n",
      "9it [00:04,  2.17it/s]\n",
      "1it [00:00, 12.05it/s]\n",
      "\n",
      "1it [00:00, 11.76it/s]\n",
      "\n",
      "1it [00:00, 13.16it/s]\n",
      "\n",
      "1it [00:00, 13.33it/s]\n",
      "\n",
      "1it [00:00, 30.30it/s]\n",
      "10it [00:04,  2.19it/s]\n",
      "1it [00:00, 12.99it/s]\n",
      "\n",
      "1it [00:00, 12.50it/s]\n",
      "\n",
      "1it [00:00, 13.89it/s]\n",
      "\n",
      "1it [00:00, 14.93it/s]\n",
      "\n",
      "1it [00:00, 30.30it/s]\n",
      "11it [00:05,  2.26it/s]\n",
      "0it [00:00, ?it/s]\u001B[A\n",
      "1it [00:00,  1.94it/s]\u001B[A\n",
      "\n",
      "0it [00:00, ?it/s]\u001B[A\n",
      "1it [00:00,  2.10it/s]\u001B[A\n",
      "\n",
      "0it [00:00, ?it/s]\u001B[A\n",
      "1it [00:00,  2.07it/s]\u001B[A\n",
      "\n",
      "0it [00:00, ?it/s]\u001B[A\n",
      "1it [00:00,  2.08it/s]\u001B[A\n",
      "\n",
      "0it [00:00, ?it/s]\u001B[A\n",
      "1it [00:00,  2.51it/s]\u001B[A\n",
      "\n",
      "1it [00:00, 27.03it/s]\n",
      "12it [00:07,  1.13s/it]\n",
      "0it [00:00, ?it/s]\u001B[A\n",
      "1it [00:00,  2.29it/s]\u001B[A\n",
      "\n",
      "0it [00:00, ?it/s]\u001B[A\n",
      "1it [00:00,  2.22it/s]\u001B[A\n",
      "\n",
      "0it [00:00, ?it/s]\u001B[A\n",
      "1it [00:00,  2.21it/s]\u001B[A\n",
      "\n",
      "0it [00:00, ?it/s]\u001B[A\n",
      "1it [00:00,  2.27it/s]\u001B[A\n",
      "\n",
      "1it [00:00, 22.22it/s]\n",
      "\n",
      "1it [00:00, 21.74it/s]\n",
      "\n",
      "1it [00:00, 22.22it/s]\n",
      "\n",
      "1it [00:00, 22.22it/s]\n",
      "\n",
      "1it [00:00, 20.41it/s]\n",
      "\n",
      "1it [00:00, 20.83it/s]\n",
      "\n",
      "1it [00:00, 21.74it/s]\n",
      "\n",
      "1it [00:00, 20.83it/s]\n",
      "\n",
      "1it [00:00, 22.22it/s]\n",
      "\n",
      "1it [00:00, 19.23it/s]\n",
      "\n",
      "1it [00:00, 19.23it/s]\n",
      "\n",
      "1it [00:00, 20.00it/s]\n",
      "\n",
      "1it [00:00, 15.62it/s]\n",
      "\n",
      "1it [00:00, 20.83it/s]\n",
      "\n",
      "1it [00:00, 20.00it/s]\n",
      "\n",
      "1it [00:00, 18.52it/s]\n",
      "\n",
      "1it [00:00, 16.39it/s]\n",
      "\n",
      "1it [00:00, 18.87it/s]\n",
      "\n",
      "1it [00:00, 16.95it/s]\n",
      "\n",
      "1it [00:00, 17.24it/s]\n",
      "\n",
      "1it [00:00, 17.53it/s]\n",
      "13it [00:10,  1.68s/it]\n",
      "1it [00:00, 12.82it/s]\n",
      "\n",
      "1it [00:00, 12.82it/s]\n",
      "\n",
      "1it [00:00, 13.70it/s]\n",
      "\n",
      "1it [00:00, 13.89it/s]\n",
      "\n",
      "1it [00:00, 29.41it/s]\n",
      "14it [00:11,  1.30s/it]\n",
      "1it [00:00, 12.35it/s]\n",
      "\n",
      "1it [00:00, 12.82it/s]\n",
      "\n",
      "1it [00:00, 13.51it/s]\n",
      "\n",
      "1it [00:00, 13.16it/s]\n",
      "\n",
      "1it [00:00, 30.30it/s]\n",
      "15it [00:11,  1.04s/it]\n",
      "1it [00:00, 11.11it/s]\n",
      "\n",
      "1it [00:00, 12.35it/s]\n",
      "\n",
      "1it [00:00, 12.82it/s]\n",
      "\n",
      "1it [00:00, 13.33it/s]\n",
      "\n",
      "1it [00:00, 29.41it/s]\n",
      "16it [00:11,  1.17it/s]\n",
      "1it [00:00, 11.11it/s]\n",
      "\n",
      "1it [00:00, 10.75it/s]\n",
      "\n",
      "1it [00:00, 11.63it/s]\n",
      "\n",
      "1it [00:00, 11.36it/s]\n",
      "\n",
      "1it [00:00, 12.35it/s]\n",
      "\n",
      "1it [00:00, 15.87it/s]\n",
      "17it [00:12,  1.28it/s]\n",
      "1it [00:00, 12.82it/s]\n",
      "\n",
      "1it [00:00, 12.66it/s]\n",
      "\n",
      "1it [00:00, 14.08it/s]\n",
      "\n",
      "1it [00:00, 14.93it/s]\n",
      "\n",
      "1it [00:00, 32.26it/s]\n",
      "18it [00:12,  1.49it/s]\n",
      "0it [00:00, ?it/s]\u001B[A\n",
      "1it [00:00,  9.09it/s]\u001B[A\n",
      "\n",
      "0it [00:00, ?it/s]\u001B[A\n",
      "1it [00:00,  9.71it/s]\u001B[A\n",
      "\n",
      "0it [00:00, ?it/s]\u001B[A\n",
      "1it [00:00,  9.52it/s]\u001B[A\n",
      "\n",
      "1it [00:00, 10.20it/s]\n",
      "\n",
      "1it [00:00, 11.24it/s]\n",
      "\n",
      "1it [00:00, 11.76it/s]\n",
      "\n",
      "1it [00:00, 13.51it/s]\n",
      "19it [00:13,  1.47it/s]\n",
      "1it [00:00, 13.89it/s]\n",
      "\n",
      "1it [00:00, 13.70it/s]\n",
      "\n",
      "1it [00:00, 14.29it/s]\n",
      "\n",
      "1it [00:00, 15.15it/s]\n",
      "\n",
      "1it [00:00, 31.25it/s]\n",
      "20it [00:14,  1.69it/s]\n",
      "1it [00:00, 11.77it/s]\n",
      "\n",
      "1it [00:00, 12.05it/s]\n",
      "\n",
      "1it [00:00, 12.82it/s]\n",
      "\n",
      "1it [00:00, 13.33it/s]\n",
      "\n",
      "1it [00:00, 15.38it/s]\n",
      "\n",
      "1it [00:00, 30.31it/s]\n",
      "21it [00:14,  1.80it/s]\n",
      "1it [00:00, 10.42it/s]\n",
      "\n",
      "1it [00:00, 10.64it/s]\n",
      "\n",
      "1it [00:00, 11.11it/s]\n",
      "\n",
      "1it [00:00, 11.49it/s]\n",
      "\n",
      "1it [00:00, 12.66it/s]\n",
      "\n",
      "1it [00:00, 15.63it/s]\n",
      "22it [00:15,  1.75it/s]\n",
      "1it [00:00, 12.99it/s]\n",
      "\n",
      "1it [00:00, 13.33it/s]\n",
      "\n",
      "1it [00:00, 14.29it/s]\n",
      "\n",
      "1it [00:00, 14.49it/s]\n",
      "\n",
      "1it [00:00, 31.25it/s]\n",
      "23it [00:15,  1.92it/s]\n",
      "1it [00:00, 12.99it/s]\n",
      "\n",
      "1it [00:00, 12.98it/s]\n",
      "\n",
      "1it [00:00, 13.89it/s]\n",
      "\n",
      "1it [00:00, 13.70it/s]\n",
      "\n",
      "1it [00:00, 30.30it/s]\n",
      "24it [00:15,  2.05it/s]\n",
      "1it [00:00, 10.87it/s]\n",
      "\n",
      "1it [00:00, 11.24it/s]\n",
      "\n",
      "1it [00:00, 11.76it/s]\n",
      "\n",
      "1it [00:00, 11.63it/s]\n",
      "\n",
      "1it [00:00, 11.90it/s]\n",
      "\n",
      "1it [00:00, 16.13it/s]\n",
      "25it [00:16,  1.92it/s]\n",
      "1it [00:00, 13.16it/s]\n",
      "\n",
      "1it [00:00, 13.33it/s]\n",
      "\n",
      "1it [00:00, 14.49it/s]\n",
      "\n",
      "1it [00:00, 14.49it/s]\n",
      "\n",
      "1it [00:00, 32.26it/s]\n",
      "26it [00:16,  2.06it/s]\n",
      "1it [00:00, 10.99it/s]\n",
      "\n",
      "1it [00:00, 10.53it/s]\n",
      "\n",
      "1it [00:00, 11.24it/s]\n",
      "\n",
      "1it [00:00, 11.76it/s]\n",
      "\n",
      "1it [00:00, 12.82it/s]\n",
      "\n",
      "1it [00:00, 32.26it/s]\n",
      "27it [00:17,  1.97it/s]\n",
      "1it [00:00, 10.99it/s]\n",
      "\n",
      "1it [00:00, 12.05it/s]\n",
      "\n",
      "1it [00:00, 12.82it/s]\n",
      "\n",
      "1it [00:00, 12.66it/s]\n",
      "\n",
      "1it [00:00, 13.70it/s]\n",
      "\n",
      "1it [00:00, 29.41it/s]\n",
      "28it [00:17,  2.00it/s]\n",
      "1it [00:00, 12.19it/s]\n",
      "\n",
      "1it [00:00, 12.20it/s]\n",
      "\n",
      "1it [00:00, 13.70it/s]\n",
      "\n",
      "1it [00:00, 13.89it/s]\n",
      "\n",
      "1it [00:00, 30.30it/s]\n",
      "29it [00:18,  2.09it/s]\n",
      "0it [00:00, ?it/s]\u001B[A\n",
      "1it [00:00,  2.51it/s]\u001B[A\n",
      "\n",
      "0it [00:00, ?it/s]\u001B[A\n",
      "1it [00:00,  2.53it/s]\u001B[A\n",
      "\n",
      "0it [00:00, ?it/s]\u001B[A\n",
      "1it [00:00,  2.57it/s]\u001B[A\n",
      "\n",
      "0it [00:00, ?it/s]\u001B[A\n",
      "1it [00:00,  2.62it/s]\u001B[A\n",
      "\n",
      "0it [00:00, ?it/s]\u001B[A\n",
      "1it [00:00,  2.48it/s]\u001B[A\n",
      "\n",
      "0it [00:00, ?it/s]\u001B[A\n",
      "1it [00:00,  2.84it/s]\u001B[A\n",
      "\n",
      "0it [00:00, ?it/s]\u001B[A\n",
      "1it [00:00,  3.19it/s]\u001B[A\n",
      "\n",
      "0it [00:00, ?it/s]\u001B[A\n",
      "1it [00:00,  3.04it/s]\u001B[A\n",
      "\n",
      "0it [00:00, ?it/s]\u001B[A\n",
      "1it [00:00,  3.88it/s]\u001B[A\n",
      "\n",
      "0it [00:00, ?it/s]\u001B[A\n",
      "1it [00:00,  4.08it/s]\u001B[A\n",
      "\n",
      "0it [00:00, ?it/s]\u001B[A\n",
      "1it [00:00,  4.48it/s]\u001B[A\n",
      "\n",
      "0it [00:00, ?it/s]\u001B[A\n",
      "1it [00:00,  5.15it/s]\u001B[A\n",
      "\n",
      "0it [00:00, ?it/s]\u001B[A\n",
      "1it [00:00,  4.78it/s]\u001B[A\n",
      "\n",
      "0it [00:00, ?it/s]\u001B[A\n",
      "1it [00:00,  6.10it/s]\u001B[A\n",
      "30it [00:22,  1.67s/it]\n",
      "1it [00:00, 12.20it/s]\n",
      "\n",
      "1it [00:00, 12.05it/s]\n",
      "\n",
      "1it [00:00, 12.99it/s]\n",
      "\n",
      "1it [00:00, 13.16it/s]\n",
      "\n",
      "1it [00:00, 31.25it/s]\n",
      "31it [00:23,  1.30s/it]\n",
      "1it [00:00, 10.87it/s]\n",
      "\n",
      "1it [00:00, 10.53it/s]\n",
      "\n",
      "1it [00:00, 10.42it/s]\n",
      "\n",
      "1it [00:00, 11.36it/s]\n",
      "\n",
      "1it [00:00, 12.20it/s]\n",
      "\n",
      "1it [00:00, 15.38it/s]\n",
      "32it [00:23,  1.10s/it]\n",
      "1it [00:00, 12.50it/s]\n",
      "\n",
      "1it [00:00, 12.99it/s]\n",
      "\n",
      "1it [00:00, 13.51it/s]\n",
      "\n",
      "1it [00:00, 13.89it/s]\n",
      "\n",
      "1it [00:00, 28.57it/s]\n",
      "33it [00:24,  1.12it/s]\n",
      "1it [00:00, 11.76it/s]\n",
      "\n",
      "1it [00:00, 11.76it/s]\n",
      "\n",
      "1it [00:00, 11.49it/s]\n",
      "\n",
      "1it [00:00, 12.82it/s]\n",
      "\n",
      "1it [00:00, 13.51it/s]\n",
      "\n",
      "1it [00:00, 29.41it/s]\n",
      "34it [00:24,  1.28it/s]\n",
      "1it [00:00, 12.19it/s]\n",
      "\n",
      "1it [00:00, 12.35it/s]\n",
      "\n",
      "1it [00:00, 13.51it/s]\n",
      "\n",
      "1it [00:00, 13.16it/s]\n",
      "\n",
      "1it [00:00, 31.25it/s]\n",
      "35it [00:25,  1.48it/s]\n",
      "0it [00:00, ?it/s]\u001B[A\n",
      "1it [00:00,  1.48it/s]\u001B[A\n",
      "\n",
      "0it [00:00, ?it/s]\u001B[A\n",
      "1it [00:00,  1.46it/s]\u001B[A\n",
      "\n",
      "0it [00:00, ?it/s]\u001B[A\n",
      "1it [00:00,  1.53it/s]\u001B[A\n",
      "\n",
      "0it [00:00, ?it/s]\u001B[A\n",
      "1it [00:00,  1.53it/s]\u001B[A\n",
      "\n",
      "0it [00:00, ?it/s]\u001B[A\n",
      "1it [00:00,  1.47it/s]\u001B[A\n",
      "\n",
      "0it [00:00, ?it/s]\u001B[A\n",
      "1it [00:00,  1.91it/s]\u001B[A\n",
      "\n",
      "0it [00:00, ?it/s]\u001B[A\n",
      "1it [00:00,  1.62it/s]\u001B[A\n",
      "\n",
      "0it [00:00, ?it/s]\u001B[A\n",
      "1it [00:00,  2.48it/s]\u001B[A\n",
      "\n",
      "0it [00:00, ?it/s]\u001B[A\n",
      "1it [00:00,  3.86it/s]\u001B[A\n",
      "\n",
      "0it [00:00, ?it/s]\u001B[A\n",
      "1it [00:00,  2.81it/s]\u001B[A\n",
      "\n",
      "0it [00:00, ?it/s]\u001B[A\n",
      "1it [00:00,  2.64it/s]\u001B[A\n",
      "\n",
      "0it [00:00, ?it/s]\u001B[A\n",
      "1it [00:00,  3.56it/s]\u001B[A\n",
      "\n",
      "0it [00:00, ?it/s]\u001B[A\n",
      "1it [00:00,  3.91it/s]\u001B[A\n",
      "\n",
      "0it [00:00, ?it/s]\u001B[A\n",
      "1it [00:00,  4.18it/s]\u001B[A\n",
      "\n",
      "0it [00:00, ?it/s]\u001B[A\n",
      "1it [00:00,  4.26it/s]\u001B[A\n",
      "\n",
      "0it [00:00, ?it/s]\u001B[A\n",
      "1it [00:00,  4.65it/s]\u001B[A\n",
      "\n",
      "0it [00:00, ?it/s]\u001B[A\n",
      "1it [00:00,  5.56it/s]\u001B[A\n",
      "36it [00:32,  2.73s/it]\n",
      "1it [00:00, 12.19it/s]\n",
      "\n",
      "1it [00:00, 12.05it/s]\n",
      "\n",
      "1it [00:00, 12.66it/s]\n",
      "\n",
      "1it [00:00, 12.82it/s]\n",
      "\n",
      "1it [00:00, 29.41it/s]\n",
      "37it [00:33,  2.04s/it]\n",
      "1it [00:00, 13.16it/s]\n",
      "\n",
      "1it [00:00, 13.16it/s]\n",
      "\n",
      "1it [00:00, 14.49it/s]\n",
      "\n",
      "1it [00:00, 13.33it/s]\n",
      "\n",
      "1it [00:00, 31.26it/s]\n",
      "38it [00:33,  1.55s/it]\n",
      "1it [00:00, 11.91it/s]\n",
      "\n",
      "1it [00:00, 12.34it/s]\n",
      "\n",
      "1it [00:00, 12.99it/s]\n",
      "\n",
      "1it [00:00, 13.33it/s]\n",
      "\n",
      "1it [00:00, 31.25it/s]\n",
      "39it [00:34,  1.22s/it]\n",
      "1it [00:00, 12.66it/s]\n",
      "\n",
      "1it [00:00, 12.82it/s]\n",
      "\n",
      "1it [00:00, 13.89it/s]\n",
      "\n",
      "1it [00:00, 14.49it/s]\n",
      "\n",
      "1it [00:00, 31.25it/s]\n",
      "40it [00:34,  1.03it/s]\n",
      "1it [00:00, 11.63it/s]\n",
      "\n",
      "1it [00:00, 12.82it/s]\n",
      "\n",
      "1it [00:00, 13.89it/s]\n",
      "\n",
      "1it [00:00, 14.49it/s]\n",
      "\n",
      "1it [00:00, 28.57it/s]\n",
      "41it [00:34,  1.24it/s]\n",
      "0it [00:00, ?it/s]\u001B[A\n",
      "1it [00:00,  6.85it/s]\u001B[A\n",
      "\n",
      "0it [00:00, ?it/s]\u001B[A\n",
      "1it [00:00,  6.99it/s]\u001B[A\n",
      "\n",
      "0it [00:00, ?it/s]\u001B[A\n",
      "1it [00:00,  6.90it/s]\u001B[A\n",
      "\n",
      "0it [00:00, ?it/s]\u001B[A\n",
      "1it [00:00,  7.46it/s]\u001B[A\n",
      "\n",
      "0it [00:00, ?it/s]\u001B[A\n",
      "1it [00:00,  7.04it/s]\u001B[A\n",
      "\n",
      "0it [00:00, ?it/s]\u001B[A\n",
      "1it [00:00,  6.94it/s]\u001B[A\n",
      "\n",
      "0it [00:00, ?it/s]\u001B[A\n",
      "1it [00:00,  9.35it/s]\u001B[A\n",
      "42it [00:36,  1.12it/s]\n",
      "1it [00:00, 12.66it/s]\n",
      "\n",
      "1it [00:00, 12.82it/s]\n",
      "\n",
      "1it [00:00, 13.51it/s]\n",
      "\n",
      "1it [00:00, 13.70it/s]\n",
      "\n",
      "1it [00:00, 32.26it/s]\n",
      "43it [00:36,  1.33it/s]\n",
      "1it [00:00, 11.24it/s]\n",
      "\n",
      "1it [00:00, 12.20it/s]\n",
      "\n",
      "1it [00:00, 12.99it/s]\n",
      "\n",
      "1it [00:00, 13.70it/s]\n",
      "\n",
      "1it [00:00, 13.89it/s]\n",
      "\n",
      "1it [00:00, 31.25it/s]\n",
      "44it [00:36,  1.50it/s]\n",
      "1it [00:00, 11.90it/s]\n",
      "\n",
      "1it [00:00, 11.77it/s]\n",
      "\n",
      "1it [00:00, 12.66it/s]\n",
      "\n",
      "1it [00:00, 12.99it/s]\n",
      "\n",
      "1it [00:00, 14.93it/s]\n",
      "\n",
      "1it [00:00, 30.31it/s]\n",
      "45it [00:37,  1.65it/s]\n",
      "1it [00:00, 12.35it/s]\n",
      "\n",
      "1it [00:00, 11.63it/s]\n",
      "\n",
      "1it [00:00, 13.33it/s]\n",
      "\n",
      "1it [00:00, 13.51it/s]\n",
      "\n",
      "1it [00:00, 31.26it/s]\n",
      "46it [00:37,  1.80it/s]\n",
      "1it [00:00, 10.53it/s]\n",
      "\n",
      "1it [00:00, 10.64it/s]\n",
      "\n",
      "1it [00:00, 11.50it/s]\n",
      "\n",
      "1it [00:00, 11.49it/s]\n",
      "\n",
      "1it [00:00, 13.16it/s]\n",
      "\n",
      "1it [00:00, 14.08it/s]\n",
      "\n",
      "1it [00:00, 18.18it/s]\n",
      "47it [00:38,  1.71it/s]\n",
      "0it [00:00, ?it/s]\u001B[A\n",
      "1it [00:00,  8.06it/s]\u001B[A\n",
      "\n",
      "0it [00:00, ?it/s]\u001B[A\n",
      "1it [00:00,  8.55it/s]\u001B[A\n",
      "\n",
      "0it [00:00, ?it/s]\u001B[A\n",
      "1it [00:00,  9.26it/s]\u001B[A\n",
      "\n",
      "0it [00:00, ?it/s]\u001B[A\n",
      "1it [00:00,  9.26it/s]\u001B[A\n",
      "\n",
      "0it [00:00, ?it/s]\u001B[A\n",
      "1it [00:00,  9.90it/s]\u001B[A\n",
      "48it [00:39,  1.64it/s]\n",
      "1it [00:00, 12.35it/s]\n",
      "\n",
      "1it [00:00, 12.66it/s]\n",
      "\n",
      "1it [00:00, 13.33it/s]\n",
      "\n",
      "1it [00:00, 14.49it/s]\n",
      "\n",
      "1it [00:00, 29.41it/s]\n",
      "49it [00:39,  1.80it/s]\n",
      "0it [00:00, ?it/s]\u001B[A\n",
      "1it [00:00,  6.06it/s]\u001B[A\n",
      "\n",
      "0it [00:00, ?it/s]\u001B[A\n",
      "1it [00:00,  6.13it/s]\u001B[A\n",
      "\n",
      "0it [00:00, ?it/s]\u001B[A\n",
      "1it [00:00,  6.29it/s]\u001B[A\n",
      "\n",
      "0it [00:00, ?it/s]\u001B[A\n",
      "1it [00:00,  6.41it/s]\u001B[A\n",
      "\n",
      "0it [00:00, ?it/s]\u001B[A\n",
      "1it [00:00,  6.13it/s]\u001B[A\n",
      "\n",
      "0it [00:00, ?it/s]\u001B[A\n",
      "1it [00:00,  6.76it/s]\u001B[A\n",
      "\n",
      "0it [00:00, ?it/s]\u001B[A\n",
      "1it [00:00,  9.17it/s]\u001B[A\n",
      "50it [00:40,  1.23it/s]\n"
     ]
    },
    {
     "name": "stdout",
     "output_type": "stream",
     "text": [
      "total computation time in s: 40.779000997543335\n",
      "found: 1.0\n",
      "average normalised L1: 0.030969949216603582\n",
      "average normalised L0: 0.870048780487805\n",
      "average lof score: -0.8048780487804879\n",
      "counterfactual validity: 0.82\n",
      "delta validity: 0.68\n",
      "m2 validity: 0.78\n"
     ]
    }
   ],
   "source": [
    "# ROAR\n",
    "roar_ces = util_exp.run_ROAR(labels=(1,))\n",
    "util_exp.evaluate_ces(roar_ces)"
   ],
   "metadata": {
    "collapsed": false,
    "pycharm": {
     "name": "#%%\n"
    }
   }
  },
  {
   "cell_type": "code",
   "execution_count": 51,
   "outputs": [],
   "source": [
    "#np.save(\"./results/sba-roar.npy\", roar_ces)\n",
    "#roar_ces = list(np.load(\"./results/sba-roar.npy\"))"
   ],
   "metadata": {
    "collapsed": false,
    "pycharm": {
     "name": "#%%\n"
    }
   }
  },
  {
   "cell_type": "code",
   "execution_count": 41,
   "outputs": [
    {
     "name": "stderr",
     "output_type": "stream",
     "text": [
      "No encoder specified. Using k-d trees to represent class prototypes.\n",
      "11it [03:04, 16.71s/it]No counterfactual found!\n",
      "12it [03:21, 16.78s/it]No counterfactual found!\n",
      "29it [08:05, 16.77s/it]No counterfactual found!\n",
      "35it [09:45, 16.50s/it]No counterfactual found!\n",
      "49it [13:32, 15.84s/it]No counterfactual found!\n",
      "50it [13:49, 16.59s/it]\n"
     ]
    },
    {
     "name": "stdout",
     "output_type": "stream",
     "text": [
      "total computation time in s: 829.6176807880402\n",
      "found: 0.9\n",
      "average normalised L1: 0.00812217167979019\n",
      "average normalised L0: 0.1233555555555556\n",
      "average lof score: 0.6\n",
      "counterfactual validity: 0.9\n",
      "delta validity: 0.0\n",
      "m2 validity: 0.06\n"
     ]
    }
   ],
   "source": [
    "# PROTOTYPES\n",
    "proto_ces = util_exp.run_proto()\n",
    "util_exp.evaluate_ces(proto_ces)"
   ],
   "metadata": {
    "collapsed": false,
    "pycharm": {
     "name": "#%%\n"
    }
   }
  },
  {
   "cell_type": "code",
   "execution_count": 52,
   "outputs": [],
   "source": [
    "#np.save(\"./results/sba-proto.npy\", proto_ces)\n",
    "#proto_ces = list(np.load(\"./results/sba-proto.npy\"))"
   ],
   "metadata": {
    "collapsed": false,
    "pycharm": {
     "name": "#%%\n"
    }
   }
  },
  {
   "cell_type": "code",
   "execution_count": 57,
   "outputs": [
    {
     "name": "stderr",
     "output_type": "stream",
     "text": [
      "0it [00:00, ?it/s]No encoder specified. Using k-d trees to represent class prototypes.\n",
      "No encoder specified. Using k-d trees to represent class prototypes.\n",
      "No encoder specified. Using k-d trees to represent class prototypes.\n",
      "No encoder specified. Using k-d trees to represent class prototypes.\n",
      "No encoder specified. Using k-d trees to represent class prototypes.\n",
      "No encoder specified. Using k-d trees to represent class prototypes.\n",
      "No encoder specified. Using k-d trees to represent class prototypes.\n",
      "No counterfactual found!\n",
      "1it [02:04, 124.28s/it]No encoder specified. Using k-d trees to represent class prototypes.\n",
      "No encoder specified. Using k-d trees to represent class prototypes.\n",
      "No encoder specified. Using k-d trees to represent class prototypes.\n",
      "No encoder specified. Using k-d trees to represent class prototypes.\n",
      "No encoder specified. Using k-d trees to represent class prototypes.\n",
      "No encoder specified. Using k-d trees to represent class prototypes.\n",
      "No encoder specified. Using k-d trees to represent class prototypes.\n",
      "No counterfactual found!\n",
      "2it [04:07, 123.55s/it]No encoder specified. Using k-d trees to represent class prototypes.\n",
      "No encoder specified. Using k-d trees to represent class prototypes.\n",
      "No encoder specified. Using k-d trees to represent class prototypes.\n",
      "No encoder specified. Using k-d trees to represent class prototypes.\n",
      "No encoder specified. Using k-d trees to represent class prototypes.\n",
      "No encoder specified. Using k-d trees to represent class prototypes.\n",
      "No encoder specified. Using k-d trees to represent class prototypes.\n",
      "No counterfactual found!\n",
      "3it [06:11, 123.93s/it]No encoder specified. Using k-d trees to represent class prototypes.\n",
      "No encoder specified. Using k-d trees to represent class prototypes.\n",
      "No encoder specified. Using k-d trees to represent class prototypes.\n",
      "No encoder specified. Using k-d trees to represent class prototypes.\n",
      "No encoder specified. Using k-d trees to represent class prototypes.\n",
      "No encoder specified. Using k-d trees to represent class prototypes.\n",
      "No encoder specified. Using k-d trees to represent class prototypes.\n",
      "No counterfactual found!\n",
      "4it [08:13, 123.10s/it]No encoder specified. Using k-d trees to represent class prototypes.\n",
      "No encoder specified. Using k-d trees to represent class prototypes.\n",
      "No encoder specified. Using k-d trees to represent class prototypes.\n",
      "No encoder specified. Using k-d trees to represent class prototypes.\n",
      "No encoder specified. Using k-d trees to represent class prototypes.\n",
      "No encoder specified. Using k-d trees to represent class prototypes.\n",
      "No encoder specified. Using k-d trees to represent class prototypes.\n",
      "No counterfactual found!\n",
      "5it [10:18, 123.86s/it]No encoder specified. Using k-d trees to represent class prototypes.\n",
      "No encoder specified. Using k-d trees to represent class prototypes.\n",
      "No encoder specified. Using k-d trees to represent class prototypes.\n",
      "No encoder specified. Using k-d trees to represent class prototypes.\n",
      "No encoder specified. Using k-d trees to represent class prototypes.\n",
      "No encoder specified. Using k-d trees to represent class prototypes.\n",
      "6it [12:04, 117.86s/it]No encoder specified. Using k-d trees to represent class prototypes.\n",
      "No encoder specified. Using k-d trees to represent class prototypes.\n",
      "No encoder specified. Using k-d trees to represent class prototypes.\n",
      "No encoder specified. Using k-d trees to represent class prototypes.\n",
      "No encoder specified. Using k-d trees to represent class prototypes.\n",
      "No encoder specified. Using k-d trees to represent class prototypes.\n",
      "No encoder specified. Using k-d trees to represent class prototypes.\n",
      "No counterfactual found!\n",
      "7it [14:09, 120.06s/it]No encoder specified. Using k-d trees to represent class prototypes.\n",
      "No encoder specified. Using k-d trees to represent class prototypes.\n",
      "No encoder specified. Using k-d trees to represent class prototypes.\n",
      "No encoder specified. Using k-d trees to represent class prototypes.\n",
      "No encoder specified. Using k-d trees to represent class prototypes.\n",
      "No encoder specified. Using k-d trees to represent class prototypes.\n",
      "No encoder specified. Using k-d trees to represent class prototypes.\n",
      "No counterfactual found!\n",
      "8it [16:12, 120.98s/it]No encoder specified. Using k-d trees to represent class prototypes.\n",
      "No encoder specified. Using k-d trees to represent class prototypes.\n",
      "No encoder specified. Using k-d trees to represent class prototypes.\n",
      "No encoder specified. Using k-d trees to represent class prototypes.\n",
      "No encoder specified. Using k-d trees to represent class prototypes.\n",
      "No encoder specified. Using k-d trees to represent class prototypes.\n",
      "No encoder specified. Using k-d trees to represent class prototypes.\n",
      "No counterfactual found!\n",
      "9it [18:19, 122.88s/it]No encoder specified. Using k-d trees to represent class prototypes.\n",
      "No encoder specified. Using k-d trees to represent class prototypes.\n",
      "No encoder specified. Using k-d trees to represent class prototypes.\n",
      "No encoder specified. Using k-d trees to represent class prototypes.\n",
      "No encoder specified. Using k-d trees to represent class prototypes.\n",
      "No encoder specified. Using k-d trees to represent class prototypes.\n",
      "No encoder specified. Using k-d trees to represent class prototypes.\n",
      "No counterfactual found!\n",
      "10it [20:24, 123.61s/it]No encoder specified. Using k-d trees to represent class prototypes.\n",
      "No encoder specified. Using k-d trees to represent class prototypes.\n",
      "No encoder specified. Using k-d trees to represent class prototypes.\n",
      "No encoder specified. Using k-d trees to represent class prototypes.\n",
      "No encoder specified. Using k-d trees to represent class prototypes.\n",
      "No encoder specified. Using k-d trees to represent class prototypes.\n",
      "No encoder specified. Using k-d trees to represent class prototypes.\n",
      "No counterfactual found!\n",
      "11it [22:27, 123.41s/it]No encoder specified. Using k-d trees to represent class prototypes.\n",
      "No counterfactual found!\n",
      "No encoder specified. Using k-d trees to represent class prototypes.\n",
      "No counterfactual found!\n",
      "No encoder specified. Using k-d trees to represent class prototypes.\n",
      "No counterfactual found!\n",
      "No encoder specified. Using k-d trees to represent class prototypes.\n",
      "No counterfactual found!\n",
      "No encoder specified. Using k-d trees to represent class prototypes.\n",
      "No counterfactual found!\n",
      "No encoder specified. Using k-d trees to represent class prototypes.\n",
      "No counterfactual found!\n",
      "No encoder specified. Using k-d trees to represent class prototypes.\n",
      "No counterfactual found!\n",
      "12it [24:37, 125.40s/it]No encoder specified. Using k-d trees to represent class prototypes.\n",
      "No counterfactual found!\n",
      "No encoder specified. Using k-d trees to represent class prototypes.\n",
      "No counterfactual found!\n",
      "No encoder specified. Using k-d trees to represent class prototypes.\n",
      "No counterfactual found!\n",
      "No encoder specified. Using k-d trees to represent class prototypes.\n",
      "No counterfactual found!\n",
      "No encoder specified. Using k-d trees to represent class prototypes.\n",
      "No counterfactual found!\n",
      "No encoder specified. Using k-d trees to represent class prototypes.\n",
      "No counterfactual found!\n",
      "No encoder specified. Using k-d trees to represent class prototypes.\n",
      "No counterfactual found!\n",
      "13it [26:49, 127.39s/it]No encoder specified. Using k-d trees to represent class prototypes.\n",
      "No encoder specified. Using k-d trees to represent class prototypes.\n",
      "No encoder specified. Using k-d trees to represent class prototypes.\n",
      "No encoder specified. Using k-d trees to represent class prototypes.\n",
      "No encoder specified. Using k-d trees to represent class prototypes.\n",
      "No encoder specified. Using k-d trees to represent class prototypes.\n",
      "No encoder specified. Using k-d trees to represent class prototypes.\n",
      "No counterfactual found!\n",
      "14it [28:53, 126.28s/it]No encoder specified. Using k-d trees to represent class prototypes.\n",
      "No encoder specified. Using k-d trees to represent class prototypes.\n",
      "No encoder specified. Using k-d trees to represent class prototypes.\n",
      "No encoder specified. Using k-d trees to represent class prototypes.\n",
      "No encoder specified. Using k-d trees to represent class prototypes.\n",
      "No encoder specified. Using k-d trees to represent class prototypes.\n",
      "No encoder specified. Using k-d trees to represent class prototypes.\n",
      "No counterfactual found!\n",
      "15it [31:03, 127.45s/it]No encoder specified. Using k-d trees to represent class prototypes.\n",
      "No encoder specified. Using k-d trees to represent class prototypes.\n",
      "No encoder specified. Using k-d trees to represent class prototypes.\n",
      "No encoder specified. Using k-d trees to represent class prototypes.\n",
      "No encoder specified. Using k-d trees to represent class prototypes.\n",
      "No encoder specified. Using k-d trees to represent class prototypes.\n",
      "No encoder specified. Using k-d trees to represent class prototypes.\n",
      "No counterfactual found!\n",
      "16it [33:10, 127.40s/it]No encoder specified. Using k-d trees to represent class prototypes.\n",
      "No encoder specified. Using k-d trees to represent class prototypes.\n",
      "No encoder specified. Using k-d trees to represent class prototypes.\n",
      "No encoder specified. Using k-d trees to represent class prototypes.\n",
      "No encoder specified. Using k-d trees to represent class prototypes.\n",
      "No encoder specified. Using k-d trees to represent class prototypes.\n",
      "No encoder specified. Using k-d trees to represent class prototypes.\n",
      "No counterfactual found!\n",
      "17it [35:21, 128.27s/it]No encoder specified. Using k-d trees to represent class prototypes.\n",
      "No encoder specified. Using k-d trees to represent class prototypes.\n",
      "No encoder specified. Using k-d trees to represent class prototypes.\n",
      "No encoder specified. Using k-d trees to represent class prototypes.\n",
      "No encoder specified. Using k-d trees to represent class prototypes.\n",
      "No encoder specified. Using k-d trees to represent class prototypes.\n",
      "No encoder specified. Using k-d trees to represent class prototypes.\n",
      "No counterfactual found!\n",
      "18it [37:29, 128.34s/it]No encoder specified. Using k-d trees to represent class prototypes.\n",
      "No encoder specified. Using k-d trees to represent class prototypes.\n",
      "No encoder specified. Using k-d trees to represent class prototypes.\n",
      "No encoder specified. Using k-d trees to represent class prototypes.\n",
      "No encoder specified. Using k-d trees to represent class prototypes.\n",
      "No encoder specified. Using k-d trees to represent class prototypes.\n",
      "No encoder specified. Using k-d trees to represent class prototypes.\n",
      "No counterfactual found!\n",
      "19it [39:36, 127.86s/it]No encoder specified. Using k-d trees to represent class prototypes.\n",
      "No encoder specified. Using k-d trees to represent class prototypes.\n",
      "No encoder specified. Using k-d trees to represent class prototypes.\n",
      "No encoder specified. Using k-d trees to represent class prototypes.\n",
      "No encoder specified. Using k-d trees to represent class prototypes.\n",
      "No encoder specified. Using k-d trees to represent class prototypes.\n",
      "No encoder specified. Using k-d trees to represent class prototypes.\n",
      "No counterfactual found!\n",
      "20it [41:42, 127.21s/it]No encoder specified. Using k-d trees to represent class prototypes.\n",
      "No encoder specified. Using k-d trees to represent class prototypes.\n",
      "No encoder specified. Using k-d trees to represent class prototypes.\n",
      "No encoder specified. Using k-d trees to represent class prototypes.\n",
      "No encoder specified. Using k-d trees to represent class prototypes.\n",
      "No encoder specified. Using k-d trees to represent class prototypes.\n",
      "No encoder specified. Using k-d trees to represent class prototypes.\n",
      "No counterfactual found!\n",
      "21it [43:49, 127.23s/it]No encoder specified. Using k-d trees to represent class prototypes.\n",
      "No encoder specified. Using k-d trees to represent class prototypes.\n",
      "No encoder specified. Using k-d trees to represent class prototypes.\n",
      "No encoder specified. Using k-d trees to represent class prototypes.\n",
      "No encoder specified. Using k-d trees to represent class prototypes.\n",
      "No encoder specified. Using k-d trees to represent class prototypes.\n",
      "No encoder specified. Using k-d trees to represent class prototypes.\n",
      "No counterfactual found!\n",
      "22it [45:59, 127.98s/it]No encoder specified. Using k-d trees to represent class prototypes.\n",
      "No encoder specified. Using k-d trees to represent class prototypes.\n",
      "No encoder specified. Using k-d trees to represent class prototypes.\n",
      "No encoder specified. Using k-d trees to represent class prototypes.\n",
      "No encoder specified. Using k-d trees to represent class prototypes.\n",
      "No encoder specified. Using k-d trees to represent class prototypes.\n",
      "No encoder specified. Using k-d trees to represent class prototypes.\n",
      "No counterfactual found!\n",
      "23it [48:06, 127.93s/it]No encoder specified. Using k-d trees to represent class prototypes.\n",
      "No encoder specified. Using k-d trees to represent class prototypes.\n",
      "No encoder specified. Using k-d trees to represent class prototypes.\n",
      "No encoder specified. Using k-d trees to represent class prototypes.\n",
      "No encoder specified. Using k-d trees to represent class prototypes.\n",
      "No encoder specified. Using k-d trees to represent class prototypes.\n",
      "No encoder specified. Using k-d trees to represent class prototypes.\n",
      "No counterfactual found!\n",
      "24it [50:17, 128.85s/it]No encoder specified. Using k-d trees to represent class prototypes.\n",
      "No encoder specified. Using k-d trees to represent class prototypes.\n",
      "No encoder specified. Using k-d trees to represent class prototypes.\n",
      "No encoder specified. Using k-d trees to represent class prototypes.\n",
      "No encoder specified. Using k-d trees to represent class prototypes.\n",
      "No encoder specified. Using k-d trees to represent class prototypes.\n",
      "No encoder specified. Using k-d trees to represent class prototypes.\n",
      "No counterfactual found!\n",
      "25it [52:28, 129.44s/it]No encoder specified. Using k-d trees to represent class prototypes.\n",
      "No encoder specified. Using k-d trees to represent class prototypes.\n",
      "No encoder specified. Using k-d trees to represent class prototypes.\n",
      "No encoder specified. Using k-d trees to represent class prototypes.\n",
      "No encoder specified. Using k-d trees to represent class prototypes.\n",
      "No encoder specified. Using k-d trees to represent class prototypes.\n",
      "No encoder specified. Using k-d trees to represent class prototypes.\n",
      "No counterfactual found!\n",
      "26it [54:38, 129.61s/it]No encoder specified. Using k-d trees to represent class prototypes.\n",
      "No encoder specified. Using k-d trees to represent class prototypes.\n",
      "No encoder specified. Using k-d trees to represent class prototypes.\n",
      "No encoder specified. Using k-d trees to represent class prototypes.\n",
      "No encoder specified. Using k-d trees to represent class prototypes.\n",
      "No encoder specified. Using k-d trees to represent class prototypes.\n",
      "No encoder specified. Using k-d trees to represent class prototypes.\n",
      "No counterfactual found!\n",
      "27it [56:47, 129.42s/it]No encoder specified. Using k-d trees to represent class prototypes.\n",
      "No encoder specified. Using k-d trees to represent class prototypes.\n",
      "No encoder specified. Using k-d trees to represent class prototypes.\n",
      "No encoder specified. Using k-d trees to represent class prototypes.\n",
      "No encoder specified. Using k-d trees to represent class prototypes.\n",
      "No encoder specified. Using k-d trees to represent class prototypes.\n",
      "28it [58:39, 124.07s/it]No encoder specified. Using k-d trees to represent class prototypes.\n",
      "No encoder specified. Using k-d trees to represent class prototypes.\n",
      "No encoder specified. Using k-d trees to represent class prototypes.\n",
      "No encoder specified. Using k-d trees to represent class prototypes.\n",
      "No encoder specified. Using k-d trees to represent class prototypes.\n",
      "No encoder specified. Using k-d trees to represent class prototypes.\n",
      "No encoder specified. Using k-d trees to represent class prototypes.\n",
      "No counterfactual found!\n",
      "29it [1:00:49, 125.79s/it]No encoder specified. Using k-d trees to represent class prototypes.\n",
      "No counterfactual found!\n",
      "No encoder specified. Using k-d trees to represent class prototypes.\n",
      "No counterfactual found!\n",
      "No encoder specified. Using k-d trees to represent class prototypes.\n",
      "No counterfactual found!\n",
      "No encoder specified. Using k-d trees to represent class prototypes.\n",
      "No counterfactual found!\n",
      "No encoder specified. Using k-d trees to represent class prototypes.\n",
      "No counterfactual found!\n",
      "No encoder specified. Using k-d trees to represent class prototypes.\n",
      "No counterfactual found!\n",
      "No encoder specified. Using k-d trees to represent class prototypes.\n",
      "No counterfactual found!\n",
      "30it [1:03:05, 129.08s/it]No encoder specified. Using k-d trees to represent class prototypes.\n",
      "No encoder specified. Using k-d trees to represent class prototypes.\n",
      "No encoder specified. Using k-d trees to represent class prototypes.\n",
      "No encoder specified. Using k-d trees to represent class prototypes.\n",
      "No encoder specified. Using k-d trees to represent class prototypes.\n",
      "No encoder specified. Using k-d trees to represent class prototypes.\n",
      "No encoder specified. Using k-d trees to represent class prototypes.\n",
      "No counterfactual found!\n",
      "31it [1:05:13, 128.72s/it]No encoder specified. Using k-d trees to represent class prototypes.\n",
      "No encoder specified. Using k-d trees to represent class prototypes.\n",
      "No encoder specified. Using k-d trees to represent class prototypes.\n",
      "No encoder specified. Using k-d trees to represent class prototypes.\n",
      "No encoder specified. Using k-d trees to represent class prototypes.\n",
      "No encoder specified. Using k-d trees to represent class prototypes.\n",
      "No encoder specified. Using k-d trees to represent class prototypes.\n",
      "No counterfactual found!\n",
      "32it [1:07:26, 129.99s/it]No encoder specified. Using k-d trees to represent class prototypes.\n",
      "No encoder specified. Using k-d trees to represent class prototypes.\n",
      "No encoder specified. Using k-d trees to represent class prototypes.\n",
      "No encoder specified. Using k-d trees to represent class prototypes.\n",
      "No encoder specified. Using k-d trees to represent class prototypes.\n",
      "No encoder specified. Using k-d trees to represent class prototypes.\n",
      "No encoder specified. Using k-d trees to represent class prototypes.\n",
      "No counterfactual found!\n",
      "33it [1:09:36, 129.98s/it]No encoder specified. Using k-d trees to represent class prototypes.\n",
      "No encoder specified. Using k-d trees to represent class prototypes.\n",
      "No encoder specified. Using k-d trees to represent class prototypes.\n",
      "No encoder specified. Using k-d trees to represent class prototypes.\n",
      "No encoder specified. Using k-d trees to represent class prototypes.\n",
      "No encoder specified. Using k-d trees to represent class prototypes.\n",
      "No encoder specified. Using k-d trees to represent class prototypes.\n",
      "No counterfactual found!\n",
      "34it [1:11:48, 130.45s/it]No encoder specified. Using k-d trees to represent class prototypes.\n",
      "No encoder specified. Using k-d trees to represent class prototypes.\n",
      "No encoder specified. Using k-d trees to represent class prototypes.\n",
      "No encoder specified. Using k-d trees to represent class prototypes.\n",
      "No encoder specified. Using k-d trees to represent class prototypes.\n",
      "No encoder specified. Using k-d trees to represent class prototypes.\n",
      "No encoder specified. Using k-d trees to represent class prototypes.\n",
      "No counterfactual found!\n",
      "35it [1:13:56, 129.88s/it]No encoder specified. Using k-d trees to represent class prototypes.\n",
      "No counterfactual found!\n",
      "No encoder specified. Using k-d trees to represent class prototypes.\n",
      "No counterfactual found!\n",
      "No encoder specified. Using k-d trees to represent class prototypes.\n",
      "No counterfactual found!\n",
      "No encoder specified. Using k-d trees to represent class prototypes.\n",
      "No counterfactual found!\n",
      "No encoder specified. Using k-d trees to represent class prototypes.\n",
      "No counterfactual found!\n",
      "No encoder specified. Using k-d trees to represent class prototypes.\n",
      "No counterfactual found!\n",
      "No encoder specified. Using k-d trees to represent class prototypes.\n",
      "No counterfactual found!\n",
      "36it [1:16:14, 132.40s/it]No encoder specified. Using k-d trees to represent class prototypes.\n",
      "No encoder specified. Using k-d trees to represent class prototypes.\n",
      "No encoder specified. Using k-d trees to represent class prototypes.\n",
      "No encoder specified. Using k-d trees to represent class prototypes.\n",
      "No encoder specified. Using k-d trees to represent class prototypes.\n",
      "No encoder specified. Using k-d trees to represent class prototypes.\n",
      "No encoder specified. Using k-d trees to represent class prototypes.\n",
      "No counterfactual found!\n",
      "37it [1:18:26, 132.09s/it]No encoder specified. Using k-d trees to represent class prototypes.\n",
      "No encoder specified. Using k-d trees to represent class prototypes.\n",
      "No encoder specified. Using k-d trees to represent class prototypes.\n",
      "No encoder specified. Using k-d trees to represent class prototypes.\n",
      "No encoder specified. Using k-d trees to represent class prototypes.\n",
      "No encoder specified. Using k-d trees to represent class prototypes.\n",
      "No encoder specified. Using k-d trees to represent class prototypes.\n",
      "No counterfactual found!\n",
      "38it [1:20:39, 132.41s/it]No encoder specified. Using k-d trees to represent class prototypes.\n",
      "No encoder specified. Using k-d trees to represent class prototypes.\n",
      "No encoder specified. Using k-d trees to represent class prototypes.\n",
      "No encoder specified. Using k-d trees to represent class prototypes.\n",
      "No encoder specified. Using k-d trees to represent class prototypes.\n",
      "No encoder specified. Using k-d trees to represent class prototypes.\n",
      "No encoder specified. Using k-d trees to represent class prototypes.\n",
      "No counterfactual found!\n",
      "39it [1:22:52, 132.62s/it]No encoder specified. Using k-d trees to represent class prototypes.\n",
      "No encoder specified. Using k-d trees to represent class prototypes.\n",
      "No encoder specified. Using k-d trees to represent class prototypes.\n",
      "No encoder specified. Using k-d trees to represent class prototypes.\n",
      "No encoder specified. Using k-d trees to represent class prototypes.\n",
      "No encoder specified. Using k-d trees to represent class prototypes.\n",
      "No encoder specified. Using k-d trees to represent class prototypes.\n",
      "No counterfactual found!\n",
      "40it [1:25:07, 133.29s/it]No encoder specified. Using k-d trees to represent class prototypes.\n",
      "No encoder specified. Using k-d trees to represent class prototypes.\n",
      "No encoder specified. Using k-d trees to represent class prototypes.\n",
      "No encoder specified. Using k-d trees to represent class prototypes.\n",
      "No encoder specified. Using k-d trees to represent class prototypes.\n",
      "No encoder specified. Using k-d trees to represent class prototypes.\n",
      "No encoder specified. Using k-d trees to represent class prototypes.\n",
      "No counterfactual found!\n",
      "41it [1:27:19, 132.89s/it]No encoder specified. Using k-d trees to represent class prototypes.\n",
      "No encoder specified. Using k-d trees to represent class prototypes.\n",
      "No encoder specified. Using k-d trees to represent class prototypes.\n",
      "No encoder specified. Using k-d trees to represent class prototypes.\n",
      "No encoder specified. Using k-d trees to represent class prototypes.\n",
      "No encoder specified. Using k-d trees to represent class prototypes.\n",
      "No encoder specified. Using k-d trees to represent class prototypes.\n",
      "No counterfactual found!\n",
      "42it [1:29:36, 134.26s/it]No encoder specified. Using k-d trees to represent class prototypes.\n",
      "No encoder specified. Using k-d trees to represent class prototypes.\n",
      "No encoder specified. Using k-d trees to represent class prototypes.\n",
      "No encoder specified. Using k-d trees to represent class prototypes.\n",
      "No encoder specified. Using k-d trees to represent class prototypes.\n",
      "No encoder specified. Using k-d trees to represent class prototypes.\n",
      "No encoder specified. Using k-d trees to represent class prototypes.\n",
      "No counterfactual found!\n",
      "43it [1:31:48, 133.34s/it]No encoder specified. Using k-d trees to represent class prototypes.\n",
      "No encoder specified. Using k-d trees to represent class prototypes.\n",
      "No encoder specified. Using k-d trees to represent class prototypes.\n",
      "No encoder specified. Using k-d trees to represent class prototypes.\n",
      "No encoder specified. Using k-d trees to represent class prototypes.\n",
      "No encoder specified. Using k-d trees to represent class prototypes.\n",
      "No encoder specified. Using k-d trees to represent class prototypes.\n",
      "No counterfactual found!\n",
      "44it [1:34:01, 133.38s/it]No encoder specified. Using k-d trees to represent class prototypes.\n",
      "No encoder specified. Using k-d trees to represent class prototypes.\n",
      "No encoder specified. Using k-d trees to represent class prototypes.\n",
      "No encoder specified. Using k-d trees to represent class prototypes.\n",
      "No encoder specified. Using k-d trees to represent class prototypes.\n",
      "No encoder specified. Using k-d trees to represent class prototypes.\n",
      "No encoder specified. Using k-d trees to represent class prototypes.\n",
      "No counterfactual found!\n",
      "45it [1:36:14, 133.23s/it]No encoder specified. Using k-d trees to represent class prototypes.\n",
      "No encoder specified. Using k-d trees to represent class prototypes.\n",
      "No encoder specified. Using k-d trees to represent class prototypes.\n",
      "No encoder specified. Using k-d trees to represent class prototypes.\n",
      "No encoder specified. Using k-d trees to represent class prototypes.\n",
      "No encoder specified. Using k-d trees to represent class prototypes.\n",
      "46it [1:38:10, 128.19s/it]No encoder specified. Using k-d trees to represent class prototypes.\n",
      "No encoder specified. Using k-d trees to represent class prototypes.\n",
      "No encoder specified. Using k-d trees to represent class prototypes.\n",
      "No encoder specified. Using k-d trees to represent class prototypes.\n",
      "No encoder specified. Using k-d trees to represent class prototypes.\n",
      "No encoder specified. Using k-d trees to represent class prototypes.\n",
      "No encoder specified. Using k-d trees to represent class prototypes.\n",
      "No counterfactual found!\n",
      "47it [1:40:26, 130.28s/it]No encoder specified. Using k-d trees to represent class prototypes.\n",
      "No encoder specified. Using k-d trees to represent class prototypes.\n",
      "No encoder specified. Using k-d trees to represent class prototypes.\n",
      "No encoder specified. Using k-d trees to represent class prototypes.\n",
      "No encoder specified. Using k-d trees to represent class prototypes.\n",
      "No encoder specified. Using k-d trees to represent class prototypes.\n",
      "No encoder specified. Using k-d trees to represent class prototypes.\n",
      "No counterfactual found!\n",
      "48it [1:42:43, 132.49s/it]No encoder specified. Using k-d trees to represent class prototypes.\n",
      "No encoder specified. Using k-d trees to represent class prototypes.\n",
      "No encoder specified. Using k-d trees to represent class prototypes.\n",
      "No encoder specified. Using k-d trees to represent class prototypes.\n",
      "No encoder specified. Using k-d trees to represent class prototypes.\n",
      "No encoder specified. Using k-d trees to represent class prototypes.\n",
      "No encoder specified. Using k-d trees to represent class prototypes.\n",
      "No counterfactual found!\n",
      "49it [1:44:56, 132.61s/it]No encoder specified. Using k-d trees to represent class prototypes.\n",
      "No counterfactual found!\n",
      "No encoder specified. Using k-d trees to represent class prototypes.\n",
      "No counterfactual found!\n",
      "No encoder specified. Using k-d trees to represent class prototypes.\n",
      "No counterfactual found!\n",
      "No encoder specified. Using k-d trees to represent class prototypes.\n",
      "No counterfactual found!\n",
      "No encoder specified. Using k-d trees to represent class prototypes.\n",
      "No counterfactual found!\n",
      "No encoder specified. Using k-d trees to represent class prototypes.\n",
      "No counterfactual found!\n",
      "No encoder specified. Using k-d trees to represent class prototypes.\n",
      "No counterfactual found!\n",
      "50it [1:47:17, 128.76s/it]\n"
     ]
    },
    {
     "name": "stdout",
     "output_type": "stream",
     "text": [
      "total computation time in s: 6437.946154356003\n",
      "found: 0.9\n",
      "average normalised L1: 0.010960993743542645\n",
      "average normalised L0: 0.19242222222222236\n",
      "average lof score: -0.022222222222222223\n",
      "counterfactual validity: 0.9\n",
      "delta validity: 0.06\n",
      "m2 validity: 0.88\n"
     ]
    }
   ],
   "source": [
    "# PROTOTYPES-robustness-boosted\n",
    "proto_ces_robust= util_exp.run_proto_robust(kap=0.1)\n",
    "util_exp.evaluate_ces(proto_ces_robust)"
   ],
   "metadata": {
    "collapsed": false,
    "pycharm": {
     "name": "#%%\n"
    }
   }
  },
  {
   "cell_type": "code",
   "execution_count": 58,
   "outputs": [],
   "source": [
    "np.save(\"./results/sba-proto-r.npy\", proto_ces_robust)\n",
    "#proto_ces_robust = list(np.load(\"./results/sba-proto-r.npy\"))"
   ],
   "metadata": {
    "collapsed": false,
    "pycharm": {
     "name": "#%%\n"
    }
   }
  },
  {
   "cell_type": "code",
   "execution_count": 34,
   "outputs": [
    {
     "name": "stderr",
     "output_type": "stream",
     "text": [
      "11it [00:19,  1.86s/it]No appropriate lambda range found, try decreasing lam_init\n",
      "12it [00:21,  1.62s/it]No appropriate lambda range found, try decreasing lam_init\n",
      "29it [00:51,  1.82s/it]No appropriate lambda range found, try decreasing lam_init\n",
      "35it [01:00,  1.73s/it]No appropriate lambda range found, try decreasing lam_init\n",
      "50it [01:27,  1.75s/it]\n"
     ]
    },
    {
     "name": "stdout",
     "output_type": "stream",
     "text": [
      "total computation time in s: 87.34499549865723\n",
      "found: 0.92\n",
      "average normalised L1: 0.01818409552615589\n",
      "average normalised L0: 0.9034782608695651\n",
      "average lof score: -0.5652173913043478\n",
      "counterfactual validity: 0.92\n",
      "delta validity: 0.06\n",
      "m2 validity: 0.92\n"
     ]
    }
   ],
   "source": [
    "# WACHTER CF\n",
    "wachter_ces = util_exp.run_wachter(target_proba=0.95, max_lam_steps=10, lam_init=0.01)\n",
    "util_exp.evaluate_ces(wachter_ces)\n"
   ],
   "metadata": {
    "collapsed": false,
    "pycharm": {
     "name": "#%%\n"
    }
   }
  },
  {
   "cell_type": "code",
   "execution_count": 54,
   "outputs": [],
   "source": [
    "#np.save(\"./results/sba-wachter.npy\", wachter_ces)\n",
    "#wachter_ces = list(np.load(\"./results/sba-wachter.npy\"))"
   ],
   "metadata": {
    "collapsed": false,
    "pycharm": {
     "name": "#%%\n"
    }
   }
  },
  {
   "cell_type": "code",
   "execution_count": 56,
   "outputs": [
    {
     "name": "stderr",
     "output_type": "stream",
     "text": [
      "11it [04:11, 27.93s/it]No appropriate lambda range found, try decreasing lam_init\n",
      "No appropriate lambda range found, try decreasing lam_init\n",
      "No appropriate lambda range found, try decreasing lam_init\n",
      "No appropriate lambda range found, try decreasing lam_init\n",
      "No appropriate lambda range found, try decreasing lam_init\n",
      "No appropriate lambda range found, try decreasing lam_init\n",
      "No appropriate lambda range found, try decreasing lam_init\n",
      "No appropriate lambda range found, try decreasing lam_init\n",
      "No appropriate lambda range found, try decreasing lam_init\n",
      "12it [04:25, 23.75s/it]No appropriate lambda range found, try decreasing lam_init\n",
      "No appropriate lambda range found, try decreasing lam_init\n",
      "No appropriate lambda range found, try decreasing lam_init\n",
      "No appropriate lambda range found, try decreasing lam_init\n",
      "No appropriate lambda range found, try decreasing lam_init\n",
      "No appropriate lambda range found, try decreasing lam_init\n",
      "No appropriate lambda range found, try decreasing lam_init\n",
      "No appropriate lambda range found, try decreasing lam_init\n",
      "No appropriate lambda range found, try decreasing lam_init\n",
      "29it [10:32, 26.11s/it]No appropriate lambda range found, try decreasing lam_init\n",
      "No appropriate lambda range found, try decreasing lam_init\n",
      "No appropriate lambda range found, try decreasing lam_init\n",
      "No appropriate lambda range found, try decreasing lam_init\n",
      "No appropriate lambda range found, try decreasing lam_init\n",
      "No appropriate lambda range found, try decreasing lam_init\n",
      "No appropriate lambda range found, try decreasing lam_init\n",
      "No appropriate lambda range found, try decreasing lam_init\n",
      "No appropriate lambda range found, try decreasing lam_init\n",
      "35it [12:34, 21.78s/it]No appropriate lambda range found, try decreasing lam_init\n",
      "No appropriate lambda range found, try decreasing lam_init\n",
      "No appropriate lambda range found, try decreasing lam_init\n",
      "No appropriate lambda range found, try decreasing lam_init\n",
      "No appropriate lambda range found, try decreasing lam_init\n",
      "No appropriate lambda range found, try decreasing lam_init\n",
      "No appropriate lambda range found, try decreasing lam_init\n",
      "No appropriate lambda range found, try decreasing lam_init\n",
      "No appropriate lambda range found, try decreasing lam_init\n",
      "50it [19:56, 23.94s/it]\n"
     ]
    },
    {
     "name": "stdout",
     "output_type": "stream",
     "text": [
      "total computation time in s: 1196.9375748634338\n",
      "found: 0.92\n",
      "average normalised L1: 0.022542965482078025\n",
      "average normalised L0: 0.908304347826087\n",
      "average lof score: -0.782608695652174\n",
      "counterfactual validity: 0.92\n",
      "delta validity: 0.34\n",
      "m2 validity: 0.92\n"
     ]
    }
   ],
   "source": [
    "# WACHTER CF - robustness-boosted\n",
    "wachter_ces_rob = util_exp.run_wachter_robust(target_proba=0.95, lam_init=0.01)\n",
    "util_exp.evaluate_ces(wachter_ces_rob)\n"
   ],
   "metadata": {
    "collapsed": false,
    "pycharm": {
     "name": "#%%\n"
    }
   }
  },
  {
   "cell_type": "code",
   "execution_count": 59,
   "outputs": [],
   "source": [
    "np.save(\"./results/sba-wachter-r.npy\", wachter_ces_rob)\n",
    "#wachter_ces_rob = list(np.load(\"./results/sba-wachter-r.npy\"))"
   ],
   "metadata": {
    "collapsed": false,
    "pycharm": {
     "name": "#%%\n"
    }
   }
  },
  {
   "cell_type": "code",
   "execution_count": 36,
   "outputs": [
    {
     "name": "stdout",
     "output_type": "stream",
     "text": [
      "[0.01082124 0.02164248 0.03246371 0.04328495 0.05410619 0.06492743\n",
      " 0.07574867 0.08656991 0.09739114 0.10821238]\n",
      "0.10821238236127151\n",
      "[0.1 0.2 0.3 0.4 0.5 0.6 0.7 0.8 0.9 1. ]\n"
     ]
    }
   ],
   "source": [
    "delta = util_exp.delta_min\n",
    "print(np.arange(delta / 10, delta * 1.01, delta / 10))\n",
    "plot_x = np.arange(0.1, 1.01, 0.1)\n",
    "print(delta)\n",
    "print(plot_x)\n"
   ],
   "metadata": {
    "collapsed": false,
    "pycharm": {
     "name": "#%%\n"
    }
   }
  },
  {
   "cell_type": "code",
   "execution_count": 37,
   "outputs": [
    {
     "name": "stdout",
     "output_type": "stream",
     "text": [
      "['0.0*$\\\\delta$', '0.1*$\\\\delta$', '0.2*$\\\\delta$', '0.3*$\\\\delta$', '0.4*$\\\\delta$', '0.5*$\\\\delta$', '0.6*$\\\\delta$', '0.7*$\\\\delta$', '0.8*$\\\\delta$', '0.9*$\\\\delta$', '1.0*$\\\\delta$']\n"
     ]
    }
   ],
   "source": [
    "plot_x = [str(i) + \"*$\\delta$\" for i in np.round(np.arange(0., 1.00001, 0.1), 1)]\n",
    "print(plot_x)\n",
    "plot_x_num = np.round(np.arange(0, 1.00001, 0.1), 1)"
   ],
   "metadata": {
    "collapsed": false,
    "pycharm": {
     "name": "#%%\n"
    }
   }
  },
  {
   "cell_type": "code",
   "execution_count": 38,
   "outputs": [],
   "source": [
    "def evaluate_ces_validity_plot(test_instances, ces, target_delta=0.05):\n",
    "    deltas = np.concatenate((np.array([0]),np.arange(target_delta/10, target_delta*1.01, target_delta/10)))\n",
    "    delta_vals = []\n",
    "    for delta in deltas:\n",
    "        delta_val = 0\n",
    "        nodes = build_inn_nodes(util_exp.clf, util_exp.num_layers)\n",
    "        weights, biases = build_inn_weights_biases(util_exp.clf, util_exp.num_layers, delta, nodes)\n",
    "        inn_delta = Inn(util_exp.num_layers, delta, nodes, weights, biases)\n",
    "        for i, x in enumerate(test_instances):\n",
    "            if ces[i] is None:\n",
    "                continue\n",
    "            y_prime = 1 if util_exp.clf.predict(x.reshape(1, -1))[0] == 0 else 0\n",
    "            this_solver = OptSolver(util_exp.dataset, inn_delta, y_prime, x, mode=1, M=10000, x_prime=ces[i])\n",
    "            if this_solver.compute_inn_bounds()[0] == 1:\n",
    "                delta_val += 1\n",
    "        delta_vals.append(delta_val / len(test_instances))\n",
    "    return delta_vals\n"
   ],
   "metadata": {
    "collapsed": false,
    "pycharm": {
     "name": "#%%\n"
    }
   }
  },
  {
   "cell_type": "code",
   "execution_count": 60,
   "outputs": [],
   "source": [
    "delta_vals_roar = evaluate_ces_validity_plot(util_exp.test_instances, roar_ces, target_delta=util_exp.delta_min)\n",
    "delta_vals_ours_rob = evaluate_ces_validity_plot(util_exp.test_instances, ours_robust_ces,\n",
    "                                                     target_delta=util_exp.delta_min)\n",
    "delta_vals_ours_non_rob = evaluate_ces_validity_plot(util_exp.test_instances, ours_non_robust_ces,\n",
    "                                                     target_delta=util_exp.delta_min)\n",
    "delta_vals_wachter = evaluate_ces_validity_plot(util_exp.test_instances, wachter_ces, target_delta=util_exp.delta_min)\n",
    "delta_vals_wachter_rob = evaluate_ces_validity_plot(util_exp.test_instances, wachter_ces_rob, target_delta=util_exp.delta_min)\n",
    "delta_vals_proto = evaluate_ces_validity_plot(util_exp.test_instances, proto_ces, target_delta=util_exp.delta_min)\n",
    "delta_vals_proto_rob = evaluate_ces_validity_plot(util_exp.test_instances, proto_ces_robust, target_delta=util_exp.delta_min)"
   ],
   "metadata": {
    "collapsed": false,
    "pycharm": {
     "name": "#%%\n"
    }
   }
  },
  {
   "cell_type": "code",
   "execution_count": 63,
   "outputs": [
    {
     "data": {
      "text/plain": "<Figure size 432x288 with 1 Axes>",
      "image/png": "[encoded data removed]"
     },
     "metadata": {
      "needs_background": "light"
     },
     "output_type": "display_data"
    }
   ],
   "source": [
    "fig, ax = plt.subplots()\n",
    "ax.plot(plot_x_num, delta_vals_wachter, \"b>--\", label=\"WACHTER\", alpha=0.9)\n",
    "#ax.plot(plot_x_num, delta_vals_wachter_rob, \"b>-\", label=\"WACHTER-R\", alpha=0.9)\n",
    "ax.plot(plot_x_num, delta_vals_proto, \"cv--\", label=\"PROTO\", alpha=0.9)\n",
    "#ax.plot(plot_x_num, delta_vals_proto_rob, \"cv-\", label=\"PROTO-R\", alpha=0.9)\n",
    "ax.plot(plot_x_num, delta_vals_ours_non_rob, \"m<--\", label=\"MILP\", alpha=0.9)\n",
    "#ax.plot(plot_x_num, delta_vals_ours_rob, \"m<-\", label=\"MILP-R\", alpha=0.9)\n",
    "ax.plot(plot_x_num, delta_vals_roar, \"ro--\", label=\"ROAR\", alpha=0.9)\n",
    "ax.set_xticks(np.arange(0., 1.01, 0.1))\n",
    "labels = [item.get_text() for item in ax.get_xticklabels()]\n",
    "for i in range(len(labels)):\n",
    "    labels[i] = plot_x[i]\n",
    "    if i == len(labels) - 1:\n",
    "        labels[i] = \"$\\delta=$\" + str(np.round(util_exp.delta_min, 2))\n",
    "    if i == 0:\n",
    "        labels[i] = str(0)\n",
    "ax.set_xticklabels(labels, fontsize=13)\n",
    "ylabels = [0.0, 0.2, 0.4, 0.6, 0.8, 1.0]\n",
    "ax.set_yticks(ylabels)\n",
    "ax.set_yticklabels(ylabels, fontsize=13)\n",
    "ax.grid()\n",
    "#ax.legend()\n",
    "plt.xticks(rotation=60)\n",
    "#ax.set_ylabel(\"$\\Delta$-validity\", fontsize=15)\n",
    "ax.set_xlabel(\"$\\delta$ values\", fontsize=15)\n",
    "fig.tight_layout()\n",
    "fig.savefig(\"./plots/delta-val-sba.png\", dpi=300)"
   ],
   "metadata": {
    "collapsed": false,
    "pycharm": {
     "name": "#%%\n"
    }
   }
  },
  {
   "cell_type": "code",
   "execution_count": 64,
   "outputs": [
    {
     "data": {
      "text/plain": "<Figure size 432x288 with 1 Axes>",
      "image/png": "[encoded data removed]"
     },
     "metadata": {
      "needs_background": "light"
     },
     "output_type": "display_data"
    }
   ],
   "source": [
    "fig, ax = plt.subplots()\n",
    "#ax.plot(plot_x_num, delta_vals_wachter, \"b>--\", label=\"WACHTER\", alpha=0.9)\n",
    "ax.plot(plot_x_num, delta_vals_wachter_rob, \"b>-\", label=\"WACHTER-R\", alpha=0.9)\n",
    "#ax.plot(plot_x_num, delta_vals_proto, \"cv--\", label=\"PROTO\", alpha=0.9)\n",
    "ax.plot(plot_x_num, delta_vals_proto_rob, \"cv-\", label=\"PROTO-R\", alpha=0.9)\n",
    "#ax.plot(plot_x_num, delta_vals_ours_non_rob, \"m<--\", label=\"MILP\", alpha=0.9)\n",
    "ax.plot(plot_x_num, delta_vals_ours_rob, \"m<-\", label=\"MILP-R\", alpha=0.9)\n",
    "ax.plot(plot_x_num, delta_vals_roar, \"ro--\", label=\"ROAR\", alpha=0.9)\n",
    "ax.set_xticks(np.arange(0., 1.01, 0.1))\n",
    "labels = [item.get_text() for item in ax.get_xticklabels()]\n",
    "for i in range(len(labels)):\n",
    "    labels[i] = plot_x[i]\n",
    "    if i == len(labels) - 1:\n",
    "        labels[i] = \"$\\delta=$\" + str(np.round(util_exp.delta_min, 2))\n",
    "    if i == 0:\n",
    "        labels[i] = str(0)\n",
    "ax.set_xticklabels(labels, fontsize=13)\n",
    "ylabels = [0.0, 0.2, 0.4, 0.6, 0.8, 1.0]\n",
    "ax.set_yticks(ylabels)\n",
    "ax.set_yticklabels(ylabels, fontsize=13)\n",
    "ax.grid()\n",
    "#ax.legend()\n",
    "plt.xticks(rotation=60)\n",
    "#ax.set_ylabel(\"$\\Delta$-validity\", fontsize=15)\n",
    "ax.set_xlabel(\"$\\delta$ values\", fontsize=15)\n",
    "fig.tight_layout()\n",
    "fig.savefig(\"./plots/robust-delta-val-sba.png\", dpi=300)"
   ],
   "metadata": {
    "collapsed": false,
    "pycharm": {
     "name": "#%%\n"
    }
   }
  },
  {
   "cell_type": "code",
   "execution_count": null,
   "outputs": [],
   "source": [],
   "metadata": {
    "collapsed": false,
    "pycharm": {
     "name": "#%%\n"
    }
   }
  }
 ],
 "metadata": {
  "kernelspec": {
   "display_name": "Python 3",
   "language": "python",
   "name": "python3"
  },
  "language_info": {
   "codemirror_mode": {
    "name": "ipython",
    "version": 2
   },
   "file_extension": ".py",
   "mimetype": "text/x-python",
   "name": "python",
   "nbconvert_exporter": "python",
   "pygments_lexer": "ipython2",
   "version": "2.7.6"
  }
 },
 "nbformat": 4,
 "nbformat_minor": 0
}